{
 "cells": [
  {
   "cell_type": "markdown",
   "metadata": {},
   "source": [
    "# Your CNN\n",
    "<h2>Now it's your turn. Have any ideas you want to try? Go wild!</h2><br>\n",
    "Some suggestions:\n",
    "<li>How about a grid search for other parameters?</li>\n",
    "<li>Maybe add regularization.</li>\n",
    "<li>Or batch normalization?</li>\n",
    "<li>More convolutional layers?</li>\n",
    "<li>Change the number of kernels and kernel sizes?</li>\n",
    "<li>Try different optimizers.</li>\n",
    "<li>How about a LSTM? I heard those are pretty cool</li>\n"
   ]
  },
  {
   "cell_type": "markdown",
   "metadata": {},
   "source": [
    "<b>Read data</b>"
   ]
  },
  {
   "cell_type": "code",
   "execution_count": null,
   "metadata": {},
   "outputs": [],
   "source": [
    "import pickle\n",
    "import pandas as pd\n",
    "import numpy as np\n",
    "\n",
    "df_balanced = pickle.load( open(\"df_balanced_enc.pickle\", \"rb\") )"
   ]
  },
  {
   "cell_type": "markdown",
   "metadata": {},
   "source": [
    "<b> Create a 80/20 train test split</b>"
   ]
  },
  {
   "cell_type": "code",
   "execution_count": null,
   "metadata": {},
   "outputs": [],
   "source": [
    "from sklearn.model_selection import train_test_split\n",
    "\n",
    "rnd_seed=\n",
    "xTrain, xTest, yTrain, yTest = train_test_split( df_balanced, df_balanced.lbl_num, test_size=, random_state= )"
   ]
  },
  {
   "cell_type": "markdown",
   "metadata": {},
   "source": [
    "If you want to play further you can download the RFam.zip from the Github repository and start to classify more than only snoRNA classes.\n",
    "Each class is further divided in the kingdoms and specifci species like Saccharomyces cerevisiae, Arabidopsis thaliana, Homo sapiens and the Kingdoms Viridiplantae, Fungi and Mammals. \n",
    "\n",
    "Start classifying for example miRNA vs. snoRNA H/ACA and/or C/D\n",
    "\n",
    "OR got to classify between Fungi and Viridiplantae snoRNAs.\n",
    "\n",
    "Also you can try to extend your models to Multi-Classification.\n"
   ]
  }
 ],
 "metadata": {
  "kernelspec": {
   "display_name": "Python 2",
   "language": "python",
   "name": "python2"
  },
  "language_info": {
   "codemirror_mode": {
    "name": "ipython",
    "version": 2
   },
   "file_extension": ".py",
   "mimetype": "text/x-python",
   "name": "python",
   "nbconvert_exporter": "python",
   "pygments_lexer": "ipython2",
   "version": "2.7.15"
  }
 },
 "nbformat": 4,
 "nbformat_minor": 2
}
