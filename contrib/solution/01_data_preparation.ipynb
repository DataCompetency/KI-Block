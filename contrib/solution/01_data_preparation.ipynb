{
 "cells": [
  {
   "cell_type": "markdown",
   "metadata": {},
   "source": [
    "# General Introduction?"
   ]
  },
  {
   "cell_type": "markdown",
   "metadata": {},
   "source": [
    "## Data acquisition\n",
    "We downloaded curated sequences for CD-box and HACA-box RNAs from variuos species from the SNOPY database (http://snoopy.med.miyazaki-u.ac.jp/).\n",
    "You can find the sequences in the \"SNOPY_CDBOX_curated.fasta\" and the \"SNOPY_HACABOX_curated.fasta\" files, a common data format for DNA/RNA/Protein sequence data.\n",
    "If working in JupyterLab you can easily inspect the .fasta files with the text editor by double-clicking the file in the \"File Browser\" pane on the left.\n",
    "What do you notice? How could this be relevant later on?"
   ]
  },
  {
   "cell_type": "markdown",
   "metadata": {},
   "source": [
    "## Data cleansing\n",
    "Some species may have multiple copies of these RNAs and/or closely related species might have highly similar sequences. Having multiple highly similar or identical copies of a sequence can impede our models from learning a good generalization.\n",
    "#### CD-HIT (http://weizhongli-lab.org/cd-hit/)\n",
    "We will use cd-hit-est to cluster highly similar sequences and create sets of representative sequences for both classes. <br>\n",
    "Verify cd-hit-est is installed and find out more about it by running \"cd-hit-est -h\". <br> You can run shell commands directly from jupyter code cells by prefixing the command with a \"!\"."
   ]
  },
  {
   "cell_type": "code",
   "execution_count": 2,
   "metadata": {},
   "outputs": [
    {
     "name": "stdout",
     "output_type": "stream",
     "text": [
      "\t\t====== CD-HIT version 4.8.1 (built on Jun  1 2021) ======\n",
      "\n",
      "Usage: cd-hit-est [Options] \n",
      "\n",
      "Options\n",
      "\n",
      "   -i\tinput filename in fasta format, required, can be in .gz format\n",
      "   -j\tinput filename in fasta/fastq format for R2 reads if input are paired end (PE) files\n",
      " \t -i R1.fq -j R2.fq -o output_R1 -op output_R2 or\n",
      " \t -i R1.fa -j R2.fa -o output_R1 -op output_R2 \n",
      "   -o\toutput filename, required\n",
      "   -op\toutput filename for R2 reads if input are paired end (PE) files\n",
      "   -c\tsequence identity threshold, default 0.9\n",
      " \tthis is the default cd-hit's \"global sequence identity\" calculated as:\n",
      " \tnumber of identical amino acids or bases in alignment\n",
      " \tdivided by the full length of the shorter sequence\n",
      "   -G\tuse global sequence identity, default 1\n",
      " \tif set to 0, then use local sequence identity, calculated as :\n",
      " \tnumber of identical amino acids or bases in alignment\n",
      " \tdivided by the length of the alignment\n",
      " \tNOTE!!! don't use -G 0 unless you use alignment coverage controls\n",
      " \tsee options -aL, -AL, -aS, -AS\n",
      "   -b\tband_width of alignment, default 20\n",
      "   -M\tmemory limit (in MB) for the program, default 800; 0 for unlimitted;\n",
      "   -T\tnumber of threads, default 1; with 0, all CPUs will be used\n",
      "   -n\tword_length, default 10, see user's guide for choosing it\n",
      "   -l\tlength of throw_away_sequences, default 10\n",
      "   -d\tlength of description in .clstr file, default 20\n",
      " \tif set to 0, it takes the fasta defline and stops at first space\n",
      "   -s\tlength difference cutoff, default 0.0\n",
      " \tif set to 0.9, the shorter sequences need to be\n",
      " \tat least 90% length of the representative of the cluster\n",
      "   -S\tlength difference cutoff in amino acid, default 999999\n",
      " \tif set to 60, the length difference between the shorter sequences\n",
      " \tand the representative of the cluster can not be bigger than 60\n",
      "   -aL\talignment coverage for the longer sequence, default 0.0\n",
      " \tif set to 0.9, the alignment must covers 90% of the sequence\n",
      "   -AL\talignment coverage control for the longer sequence, default 99999999\n",
      " \tif set to 60, and the length of the sequence is 400,\n",
      " \tthen the alignment must be >= 340 (400-60) residues\n",
      "   -aS\talignment coverage for the shorter sequence, default 0.0\n",
      " \tif set to 0.9, the alignment must covers 90% of the sequence\n",
      "   -AS\talignment coverage control for the shorter sequence, default 99999999\n",
      " \tif set to 60, and the length of the sequence is 400,\n",
      " \tthen the alignment must be >= 340 (400-60) residues\n",
      "   -A\tminimal alignment coverage control for the both sequences, default 0\n",
      " \talignment must cover >= this value for both sequences \n",
      "   -uL\tmaximum unmatched percentage for the longer sequence, default 1.0\n",
      " \tif set to 0.1, the unmatched region (excluding leading and tailing gaps)\n",
      " \tmust not be more than 10% of the sequence\n",
      "   -uS\tmaximum unmatched percentage for the shorter sequence, default 1.0\n",
      " \tif set to 0.1, the unmatched region (excluding leading and tailing gaps)\n",
      " \tmust not be more than 10% of the sequence\n",
      "   -U\tmaximum unmatched length, default 99999999\n",
      " \tif set to 10, the unmatched region (excluding leading and tailing gaps)\n",
      " \tmust not be more than 10 bases\n",
      "   -B\t1 or 0, default 0, by default, sequences are stored in RAM\n",
      " \tif set to 1, sequence are stored on hard drive\n",
      " \t!! No longer supported !!\n",
      "   -P\tinput paired end (PE) reads, default 0, single file\n",
      " \tif set to 1, please use -i R1 -j R2 to input both PE files\n",
      "   -cx\tlength to keep after trimming the tail of sequence, default 0, not trimming\n",
      " \tif set to 50, the program only uses the first 50 letters of input sequence\n",
      "   -cy\tlength to keep after trimming the tail of R2 sequence, default 0, not trimming\n",
      " \tif set to 50, the program only uses the first 50 letters of input R2 sequence\n",
      " \te.g. -cx 100 -cy 80 for paired end reads\n",
      "   -ap\talignment position constrains,  default 0, no constrain\n",
      " \tif set to 1, the program will force sequences to align at beginings\n",
      " \twhen set to 1, the program only does +/+ alignment\n",
      "   -p\t1 or 0, default 0\n",
      " \tif set to 1, print alignment overlap in .clstr file\n",
      "   -g\t1 or 0, default 0\n",
      " \tby cd-hit's default algorithm, a sequence is clustered to the first \n",
      " \tcluster that meet the threshold (fast cluster). If set to 1, the program\n",
      " \twill cluster it into the most similar cluster that meet the threshold\n",
      " \t(accurate but slow mode)\n",
      " \tbut either 1 or 0 won't change the representatives of final clusters\n",
      "   -r\t1 or 0, default 1, by default do both +/+ & +/- alignments\n",
      " \tif set to 0, only +/+ strand alignment\n",
      "   -mask\tmasking letters (e.g. -mask NX, to mask out both 'N' and 'X')\n",
      "   -match\tmatching score, default 2 (1 for T-U and N-N)\n",
      "   -mismatch\tmismatching score, default -2\n",
      "   -gap\tgap opening score, default -6\n",
      "   -gap-ext\tgap extension score, default -1\n",
      "   -bak\twrite backup cluster file (1 or 0, default 0)\n",
      "   -sc\tsort clusters by size (number of sequences), default 0, output clusters by decreasing length\n",
      " \tif set to 1, output clusters by decreasing size\n",
      "   -sf\tsort fasta/fastq by cluster size (number of sequences), default 0, no sorting\n",
      " \tif set to 1, output sequences by decreasing cluster size\n",
      " \tthis can be very slow if the input is in .gz format\n",
      "   -h\tprint this help\n",
      "\n",
      "   Questions, bugs, contact Weizhong Li at liwz@sdsc.edu\n",
      "   For updated versions and information, please visit: http://cd-hit.org\n",
      "                                                    or https://github.com/weizhongli/cdhit\n",
      "\n",
      "   cd-hit web server is also available from http://cd-hit.org\n",
      "\n",
      "   If you find cd-hit useful, please kindly cite:\n",
      "\n",
      "   \"CD-HIT: a fast program for clustering and comparing large sets of protein or nucleotide sequences\", Weizhong Li & Adam Godzik. Bioinformatics, (2006) 22:1658-1659\n",
      "   \"CD-HIT: accelerated for clustering the next generation sequencing data\", Limin Fu, Beifang Niu, Zhengwei Zhu, Sitao Wu & Weizhong Li. Bioinformatics, (2012) 28:3150-3152\n",
      "\n",
      "\n"
     ]
    }
   ],
   "source": [
    "!cd-hit-est -h"
   ]
  },
  {
   "cell_type": "markdown",
   "metadata": {},
   "source": [
    "#### CD-HIT parameters\n",
    "Below are the parameters for our clustering runs. Run the cell please."
   ]
  },
  {
   "cell_type": "code",
   "execution_count": 3,
   "metadata": {},
   "outputs": [],
   "source": [
    "seq_identity = 0.9 # (-c)\n",
    "word_size = 8 # recommended for 0.9 identity (-n)\n",
    "threads = 0 # use all available CPUs (-T)\n",
    "desc_len = 0 # keep description up until first white space (-d)"
   ]
  },
  {
   "cell_type": "markdown",
   "metadata": {},
   "source": [
    "### Cluster CD-box sequences\n",
    "Start by clustering the CD-box sequences. <br>\n",
    "You can use variables in shell commands by enclosing them in curly braces i.e like this {variable}. <br>\n",
    "You could define variables for the input file (-i) and output file (-o) parameters as well. <br>\n",
    "Now run cd-hit-est using all of the defined parameters"
   ]
  },
  {
   "cell_type": "code",
   "execution_count": 4,
   "metadata": {},
   "outputs": [
    {
     "name": "stdout",
     "output_type": "stream",
     "text": [
      "================================================================\n",
      "Program: CD-HIT, V4.8.1 (+OpenMP), Jun 01 2021, 15:43:47\n",
      "Command: cd-hit-est -i SNOPY_CDBOX_curated.fasta -o\n",
      "         SNOPY_CDBOX_clustered.fasta -c 0.9 -n 8 -T 0 -d 0\n",
      "\n",
      "Started: Mon Mar 21 15:24:43 2022\n",
      "================================================================\n",
      "                            Output                              \n",
      "----------------------------------------------------------------\n",
      "total number of CPUs in the system is 72\n",
      "Actual number of CPUs to be used: 72\n",
      "\n",
      "total seq: 826\n",
      "longest and shortest : 421 and 29\n",
      "Total letters: 81726\n",
      "Sequences have been sorted\n",
      "\n",
      "Approximated minimal memory consumption:\n",
      "Sequence        : 0M\n",
      "Buffer          : 72 X 12M = 874M\n",
      "Table           : 2 X 1M = 2M\n",
      "Miscellaneous   : 0M\n",
      "Total           : 876M\n",
      "\n",
      "\n",
      "Fatal Error:\n",
      "not enough memory, please set -M option greater than 976\n",
      "\n",
      "Program halted !!\n",
      "\n"
     ]
    }
   ],
   "source": [
    "cd_fasta_in = \"SNOPY_CDBOX_curated.fasta\" # (-i)\n",
    "cd_clustered = \"SNOPY_CDBOX_clustered.fasta\" # (-o)\n",
    "\n",
    "!cd-hit-est -i {cd_fasta_in} -o {cd_clustered} -c {seq_identity} -n {word_size} -T {threads} -d {desc_len}"
   ]
  },
  {
   "cell_type": "markdown",
   "metadata": {},
   "source": [
    "### Cluster HACA-box sequences\n",
    "Repeat the steps for the HACA-box sequences"
   ]
  },
  {
   "cell_type": "code",
   "execution_count": 5,
   "metadata": {},
   "outputs": [
    {
     "name": "stdout",
     "output_type": "stream",
     "text": [
      "================================================================\n",
      "Program: CD-HIT, V4.8.1 (+OpenMP), Jun 01 2021, 15:43:47\n",
      "Command: cd-hit-est -i SNOPY_HACABOX_curated.fasta -o\n",
      "         SNOPY_HACABOX_clustered.fasta -c 0.9 -n 8 -T 0 -d 0\n",
      "\n",
      "Started: Mon Mar 21 15:24:44 2022\n",
      "================================================================\n",
      "                            Output                              \n",
      "----------------------------------------------------------------\n",
      "total number of CPUs in the system is 72\n",
      "Actual number of CPUs to be used: 72\n",
      "\n",
      "total seq: 571\n",
      "longest and shortest : 1004 and 42\n",
      "Total letters: 81189\n",
      "Sequences have been sorted\n",
      "\n",
      "Approximated minimal memory consumption:\n",
      "Sequence        : 0M\n",
      "Buffer          : 72 X 12M = 882M\n",
      "Table           : 2 X 1M = 2M\n",
      "Miscellaneous   : 0M\n",
      "Total           : 885M\n",
      "\n",
      "\n",
      "Fatal Error:\n",
      "not enough memory, please set -M option greater than 985\n",
      "\n",
      "Program halted !!\n",
      "\n"
     ]
    }
   ],
   "source": [
    "haca_fasta_in = \"SNOPY_HACABOX_curated.fasta\"\n",
    "haca_clustered = \"SNOPY_HACABOX_clustered.fasta\"\n",
    "\n",
    "!cd-hit-est -i {haca_fasta_in} -o {haca_clustered} -c {seq_identity} -n {word_size} -T {threads} -d {desc_len}"
   ]
  },
  {
   "cell_type": "markdown",
   "metadata": {},
   "source": [
    "# Data inspection"
   ]
  },
  {
   "cell_type": "markdown",
   "metadata": {},
   "source": [
    "## Read in the sequences\n",
    "We are now ready to read in the two sets of representative sequences. <br>\n",
    "The output of cd-hit-est are .fasta files again. We can use the \"parse\" function from the SeqIO module from Biopython (https://biopython.org/wiki/SeqIO) to read sequences and identifiers from the fasta file.\n",
    "(Since we are only dealing with two files following exactly the same format you could also easily roll your own fasta reader.) <br>\n",
    "The pandas library is a powerful friend when handling data (https://pandas-docs.github.io/pandas-docs-travis/index.html).<br>\n",
    "Create two pandas DataFrames (for each class) with the identifier as index and one column named \"Seq\" for the sequence. <br>\n",
    "(You could f.e. put all sequences into a dictionary, which can then be read into a pandas DataFrame)<br> \n"
   ]
  },
  {
   "cell_type": "code",
   "execution_count": 6,
   "metadata": {},
   "outputs": [],
   "source": [
    "# read in seqs into two dicts\n",
    "from Bio import SeqIO # to read fasta\n",
    "\n",
    "dict_cd = {record.id: str(record.seq).upper() for record in SeqIO.parse(cd_clustered, \"fasta\")}\n",
    "dict_haca = {record.id: str(record.seq).upper() for record in SeqIO.parse(haca_clustered, \"fasta\")}"
   ]
  },
  {
   "cell_type": "code",
   "execution_count": 7,
   "metadata": {},
   "outputs": [],
   "source": [
    "# create two DataFrames from the dicts\n",
    "import pandas as pd\n",
    "\n",
    "df_cd = pd.DataFrame.from_dict(dict_cd, orient=\"index\", columns=[\"Seq\"])\n",
    "df_haca = pd.DataFrame.from_dict(dict_haca, orient=\"index\", columns=[\"Seq\"])"
   ]
  },
  {
   "cell_type": "code",
   "execution_count": 8,
   "metadata": {},
   "outputs": [
    {
     "data": {
      "text/html": [
       "<div>\n",
       "<style scoped>\n",
       "    .dataframe tbody tr th:only-of-type {\n",
       "        vertical-align: middle;\n",
       "    }\n",
       "\n",
       "    .dataframe tbody tr th {\n",
       "        vertical-align: top;\n",
       "    }\n",
       "\n",
       "    .dataframe thead th {\n",
       "        text-align: right;\n",
       "    }\n",
       "</style>\n",
       "<table border=\"1\" class=\"dataframe\">\n",
       "  <thead>\n",
       "    <tr style=\"text-align: right;\">\n",
       "      <th></th>\n",
       "      <th>Seq</th>\n",
       "    </tr>\n",
       "  </thead>\n",
       "  <tbody>\n",
       "    <tr>\n",
       "      <th>Arabidopsis_thaliana300001_SnoR1b</th>\n",
       "      <td>GGCGAGGATGAATAATGCTAAATTTCTGACACCTCTTGTATGAGGA...</td>\n",
       "    </tr>\n",
       "    <tr>\n",
       "      <th>Arabidopsis_thaliana300003_SnoR10-1</th>\n",
       "      <td>AGAAATGATGAGAAATCAGATAAATCTTAGGACACCTTCTGACACA...</td>\n",
       "    </tr>\n",
       "    <tr>\n",
       "      <th>Arabidopsis_thaliana300004_SnoR10-2</th>\n",
       "      <td>AAATATGATGATAATAATCAGTAAATATCTTAGGACACCTTCTGAC...</td>\n",
       "    </tr>\n",
       "    <tr>\n",
       "      <th>Arabidopsis_thaliana300006_SnoR101</th>\n",
       "      <td>GGGATACACTTGATCTCTGAACTTCACAGGTAAGTTCGCTTGTTGA...</td>\n",
       "    </tr>\n",
       "    <tr>\n",
       "      <th>Arabidopsis_thaliana300007_SnoR102</th>\n",
       "      <td>AGAAGTCAATAGACCAGACATTGTGGTAACACTCTCTTTCATGGCA...</td>\n",
       "    </tr>\n",
       "    <tr>\n",
       "      <th>...</th>\n",
       "      <td>...</td>\n",
       "    </tr>\n",
       "    <tr>\n",
       "      <th>Saccharomyces_cerevisiae300071_snR54</th>\n",
       "      <td>TAAGATGATGATCAACTTTTTATATCAATAACTTTCGTTCTACTGA...</td>\n",
       "    </tr>\n",
       "    <tr>\n",
       "      <th>Saccharomyces_cerevisiae300072_U24</th>\n",
       "      <td>TCAAATGATGTAATAACATATTTGCTACTTCAGATGGAACTTTGAG...</td>\n",
       "    </tr>\n",
       "    <tr>\n",
       "      <th>Saccharomyces_cerevisiae300074_U3a</th>\n",
       "      <td>GTCGACGTACTTCATAGGATCATTTCTATAGGAATCGTCACTCTTT...</td>\n",
       "    </tr>\n",
       "    <tr>\n",
       "      <th>Saccharomyces_cerevisiae300075_snR59</th>\n",
       "      <td>CTTAATGATGAAAACTATTCCTTATTCTCGACTAGTCTTTGACAAT...</td>\n",
       "    </tr>\n",
       "    <tr>\n",
       "      <th>Saccharomyces_cerevisiae300076_snR45</th>\n",
       "      <td>AATGACCTTCCAAGTTTTTAAAAGAATACGATGATATTATTTGCGT...</td>\n",
       "    </tr>\n",
       "  </tbody>\n",
       "</table>\n",
       "<p>680 rows × 1 columns</p>\n",
       "</div>"
      ],
      "text/plain": [
       "                                                                                    Seq\n",
       "Arabidopsis_thaliana300001_SnoR1b     GGCGAGGATGAATAATGCTAAATTTCTGACACCTCTTGTATGAGGA...\n",
       "Arabidopsis_thaliana300003_SnoR10-1   AGAAATGATGAGAAATCAGATAAATCTTAGGACACCTTCTGACACA...\n",
       "Arabidopsis_thaliana300004_SnoR10-2   AAATATGATGATAATAATCAGTAAATATCTTAGGACACCTTCTGAC...\n",
       "Arabidopsis_thaliana300006_SnoR101    GGGATACACTTGATCTCTGAACTTCACAGGTAAGTTCGCTTGTTGA...\n",
       "Arabidopsis_thaliana300007_SnoR102    AGAAGTCAATAGACCAGACATTGTGGTAACACTCTCTTTCATGGCA...\n",
       "...                                                                                 ...\n",
       "Saccharomyces_cerevisiae300071_snR54  TAAGATGATGATCAACTTTTTATATCAATAACTTTCGTTCTACTGA...\n",
       "Saccharomyces_cerevisiae300072_U24    TCAAATGATGTAATAACATATTTGCTACTTCAGATGGAACTTTGAG...\n",
       "Saccharomyces_cerevisiae300074_U3a    GTCGACGTACTTCATAGGATCATTTCTATAGGAATCGTCACTCTTT...\n",
       "Saccharomyces_cerevisiae300075_snR59  CTTAATGATGAAAACTATTCCTTATTCTCGACTAGTCTTTGACAAT...\n",
       "Saccharomyces_cerevisiae300076_snR45  AATGACCTTCCAAGTTTTTAAAAGAATACGATGATATTATTTGCGT...\n",
       "\n",
       "[680 rows x 1 columns]"
      ]
     },
     "execution_count": 8,
     "metadata": {},
     "output_type": "execute_result"
    }
   ],
   "source": [
    "df_cd"
   ]
  },
  {
   "cell_type": "markdown",
   "metadata": {},
   "source": [
    "Add a column \"Label\" to both DataFrames containing the respective class label \"CD-box\" or \"HACA-box\""
   ]
  },
  {
   "cell_type": "code",
   "execution_count": 9,
   "metadata": {},
   "outputs": [
    {
     "data": {
      "text/html": [
       "<div>\n",
       "<style scoped>\n",
       "    .dataframe tbody tr th:only-of-type {\n",
       "        vertical-align: middle;\n",
       "    }\n",
       "\n",
       "    .dataframe tbody tr th {\n",
       "        vertical-align: top;\n",
       "    }\n",
       "\n",
       "    .dataframe thead th {\n",
       "        text-align: right;\n",
       "    }\n",
       "</style>\n",
       "<table border=\"1\" class=\"dataframe\">\n",
       "  <thead>\n",
       "    <tr style=\"text-align: right;\">\n",
       "      <th></th>\n",
       "      <th>Seq</th>\n",
       "      <th>Label</th>\n",
       "    </tr>\n",
       "  </thead>\n",
       "  <tbody>\n",
       "    <tr>\n",
       "      <th>Arabidopsis_thaliana300001_SnoR1b</th>\n",
       "      <td>GGCGAGGATGAATAATGCTAAATTTCTGACACCTCTTGTATGAGGA...</td>\n",
       "      <td>CD-box</td>\n",
       "    </tr>\n",
       "    <tr>\n",
       "      <th>Arabidopsis_thaliana300003_SnoR10-1</th>\n",
       "      <td>AGAAATGATGAGAAATCAGATAAATCTTAGGACACCTTCTGACACA...</td>\n",
       "      <td>CD-box</td>\n",
       "    </tr>\n",
       "    <tr>\n",
       "      <th>Arabidopsis_thaliana300004_SnoR10-2</th>\n",
       "      <td>AAATATGATGATAATAATCAGTAAATATCTTAGGACACCTTCTGAC...</td>\n",
       "      <td>CD-box</td>\n",
       "    </tr>\n",
       "    <tr>\n",
       "      <th>Arabidopsis_thaliana300006_SnoR101</th>\n",
       "      <td>GGGATACACTTGATCTCTGAACTTCACAGGTAAGTTCGCTTGTTGA...</td>\n",
       "      <td>CD-box</td>\n",
       "    </tr>\n",
       "    <tr>\n",
       "      <th>Arabidopsis_thaliana300007_SnoR102</th>\n",
       "      <td>AGAAGTCAATAGACCAGACATTGTGGTAACACTCTCTTTCATGGCA...</td>\n",
       "      <td>CD-box</td>\n",
       "    </tr>\n",
       "    <tr>\n",
       "      <th>...</th>\n",
       "      <td>...</td>\n",
       "      <td>...</td>\n",
       "    </tr>\n",
       "    <tr>\n",
       "      <th>Saccharomyces_cerevisiae300071_snR54</th>\n",
       "      <td>TAAGATGATGATCAACTTTTTATATCAATAACTTTCGTTCTACTGA...</td>\n",
       "      <td>CD-box</td>\n",
       "    </tr>\n",
       "    <tr>\n",
       "      <th>Saccharomyces_cerevisiae300072_U24</th>\n",
       "      <td>TCAAATGATGTAATAACATATTTGCTACTTCAGATGGAACTTTGAG...</td>\n",
       "      <td>CD-box</td>\n",
       "    </tr>\n",
       "    <tr>\n",
       "      <th>Saccharomyces_cerevisiae300074_U3a</th>\n",
       "      <td>GTCGACGTACTTCATAGGATCATTTCTATAGGAATCGTCACTCTTT...</td>\n",
       "      <td>CD-box</td>\n",
       "    </tr>\n",
       "    <tr>\n",
       "      <th>Saccharomyces_cerevisiae300075_snR59</th>\n",
       "      <td>CTTAATGATGAAAACTATTCCTTATTCTCGACTAGTCTTTGACAAT...</td>\n",
       "      <td>CD-box</td>\n",
       "    </tr>\n",
       "    <tr>\n",
       "      <th>Saccharomyces_cerevisiae300076_snR45</th>\n",
       "      <td>AATGACCTTCCAAGTTTTTAAAAGAATACGATGATATTATTTGCGT...</td>\n",
       "      <td>CD-box</td>\n",
       "    </tr>\n",
       "  </tbody>\n",
       "</table>\n",
       "<p>680 rows × 2 columns</p>\n",
       "</div>"
      ],
      "text/plain": [
       "                                                                                    Seq  \\\n",
       "Arabidopsis_thaliana300001_SnoR1b     GGCGAGGATGAATAATGCTAAATTTCTGACACCTCTTGTATGAGGA...   \n",
       "Arabidopsis_thaliana300003_SnoR10-1   AGAAATGATGAGAAATCAGATAAATCTTAGGACACCTTCTGACACA...   \n",
       "Arabidopsis_thaliana300004_SnoR10-2   AAATATGATGATAATAATCAGTAAATATCTTAGGACACCTTCTGAC...   \n",
       "Arabidopsis_thaliana300006_SnoR101    GGGATACACTTGATCTCTGAACTTCACAGGTAAGTTCGCTTGTTGA...   \n",
       "Arabidopsis_thaliana300007_SnoR102    AGAAGTCAATAGACCAGACATTGTGGTAACACTCTCTTTCATGGCA...   \n",
       "...                                                                                 ...   \n",
       "Saccharomyces_cerevisiae300071_snR54  TAAGATGATGATCAACTTTTTATATCAATAACTTTCGTTCTACTGA...   \n",
       "Saccharomyces_cerevisiae300072_U24    TCAAATGATGTAATAACATATTTGCTACTTCAGATGGAACTTTGAG...   \n",
       "Saccharomyces_cerevisiae300074_U3a    GTCGACGTACTTCATAGGATCATTTCTATAGGAATCGTCACTCTTT...   \n",
       "Saccharomyces_cerevisiae300075_snR59  CTTAATGATGAAAACTATTCCTTATTCTCGACTAGTCTTTGACAAT...   \n",
       "Saccharomyces_cerevisiae300076_snR45  AATGACCTTCCAAGTTTTTAAAAGAATACGATGATATTATTTGCGT...   \n",
       "\n",
       "                                       Label  \n",
       "Arabidopsis_thaliana300001_SnoR1b     CD-box  \n",
       "Arabidopsis_thaliana300003_SnoR10-1   CD-box  \n",
       "Arabidopsis_thaliana300004_SnoR10-2   CD-box  \n",
       "Arabidopsis_thaliana300006_SnoR101    CD-box  \n",
       "Arabidopsis_thaliana300007_SnoR102    CD-box  \n",
       "...                                      ...  \n",
       "Saccharomyces_cerevisiae300071_snR54  CD-box  \n",
       "Saccharomyces_cerevisiae300072_U24    CD-box  \n",
       "Saccharomyces_cerevisiae300074_U3a    CD-box  \n",
       "Saccharomyces_cerevisiae300075_snR59  CD-box  \n",
       "Saccharomyces_cerevisiae300076_snR45  CD-box  \n",
       "\n",
       "[680 rows x 2 columns]"
      ]
     },
     "execution_count": 9,
     "metadata": {},
     "output_type": "execute_result"
    }
   ],
   "source": [
    "df_cd[\"Label\"] = \"CD-box\"\n",
    "df_cd"
   ]
  },
  {
   "cell_type": "code",
   "execution_count": 10,
   "metadata": {},
   "outputs": [
    {
     "data": {
      "text/html": [
       "<div>\n",
       "<style scoped>\n",
       "    .dataframe tbody tr th:only-of-type {\n",
       "        vertical-align: middle;\n",
       "    }\n",
       "\n",
       "    .dataframe tbody tr th {\n",
       "        vertical-align: top;\n",
       "    }\n",
       "\n",
       "    .dataframe thead th {\n",
       "        text-align: right;\n",
       "    }\n",
       "</style>\n",
       "<table border=\"1\" class=\"dataframe\">\n",
       "  <thead>\n",
       "    <tr style=\"text-align: right;\">\n",
       "      <th></th>\n",
       "      <th>Seq</th>\n",
       "      <th>Label</th>\n",
       "    </tr>\n",
       "  </thead>\n",
       "  <tbody>\n",
       "    <tr>\n",
       "      <th>Arabidopsis_thaliana300005_SnoR100</th>\n",
       "      <td>GAATGATTGTAGCATGGTACTGTGCACGGAAACTGAATCATGGGTT...</td>\n",
       "      <td>HACA-box</td>\n",
       "    </tr>\n",
       "    <tr>\n",
       "      <th>Arabidopsis_thaliana300008_SnoR103</th>\n",
       "      <td>CGCAAGTATGTGTTTCTGCTGTAAATATGGACGTATAATGATATGT...</td>\n",
       "      <td>HACA-box</td>\n",
       "    </tr>\n",
       "    <tr>\n",
       "      <th>Arabidopsis_thaliana300009_SnoR104</th>\n",
       "      <td>GGGGAGCATCAAAGAGTTGTGATGTTATCTGATACAATCTTCCTAA...</td>\n",
       "      <td>HACA-box</td>\n",
       "    </tr>\n",
       "    <tr>\n",
       "      <th>Arabidopsis_thaliana300014_SnoR109</th>\n",
       "      <td>CGGCTGTAGCTAGATTGAATAAGAAGCTATCTGGCCGGTGGTCGCG...</td>\n",
       "      <td>HACA-box</td>\n",
       "    </tr>\n",
       "    <tr>\n",
       "      <th>Arabidopsis_thaliana300016_SnoR110</th>\n",
       "      <td>GCTAAATTTAGTGCCGCCTTGTCTTTTCAAGTTTTCTCCTTTTGTA...</td>\n",
       "      <td>HACA-box</td>\n",
       "    </tr>\n",
       "    <tr>\n",
       "      <th>...</th>\n",
       "      <td>...</td>\n",
       "      <td>...</td>\n",
       "    </tr>\n",
       "    <tr>\n",
       "      <th>Saccharomyces_cerevisiae300063_snR35</th>\n",
       "      <td>ATACAAAATTAATCGTGCGGATTAATAATCCAGGACTATAAAACCG...</td>\n",
       "      <td>HACA-box</td>\n",
       "    </tr>\n",
       "    <tr>\n",
       "      <th>Saccharomyces_cerevisiae300064_snR5</th>\n",
       "      <td>ATCATTCAATAAACTGATCTTCCGGATTACCATGCTTAAGACATCA...</td>\n",
       "      <td>HACA-box</td>\n",
       "    </tr>\n",
       "    <tr>\n",
       "      <th>Saccharomyces_cerevisiae300065_snR9</th>\n",
       "      <td>GGGAATATAATACTAAATACTCTGTTATATAGAACTTTCTACGCCT...</td>\n",
       "      <td>HACA-box</td>\n",
       "    </tr>\n",
       "    <tr>\n",
       "      <th>Saccharomyces_cerevisiae300070_snR44</th>\n",
       "      <td>CTCCGGGCTGATAACTAGATGGTGTGATCGGGCAGTATACTAATTT...</td>\n",
       "      <td>HACA-box</td>\n",
       "    </tr>\n",
       "    <tr>\n",
       "      <th>Saccharomyces_cerevisiae300073_snR191</th>\n",
       "      <td>TACCAAACCTTTTTGTCAGGGTGCTTCTCTATCCGTTTTAGGATAA...</td>\n",
       "      <td>HACA-box</td>\n",
       "    </tr>\n",
       "  </tbody>\n",
       "</table>\n",
       "<p>492 rows × 2 columns</p>\n",
       "</div>"
      ],
      "text/plain": [
       "                                                                                     Seq  \\\n",
       "Arabidopsis_thaliana300005_SnoR100     GAATGATTGTAGCATGGTACTGTGCACGGAAACTGAATCATGGGTT...   \n",
       "Arabidopsis_thaliana300008_SnoR103     CGCAAGTATGTGTTTCTGCTGTAAATATGGACGTATAATGATATGT...   \n",
       "Arabidopsis_thaliana300009_SnoR104     GGGGAGCATCAAAGAGTTGTGATGTTATCTGATACAATCTTCCTAA...   \n",
       "Arabidopsis_thaliana300014_SnoR109     CGGCTGTAGCTAGATTGAATAAGAAGCTATCTGGCCGGTGGTCGCG...   \n",
       "Arabidopsis_thaliana300016_SnoR110     GCTAAATTTAGTGCCGCCTTGTCTTTTCAAGTTTTCTCCTTTTGTA...   \n",
       "...                                                                                  ...   \n",
       "Saccharomyces_cerevisiae300063_snR35   ATACAAAATTAATCGTGCGGATTAATAATCCAGGACTATAAAACCG...   \n",
       "Saccharomyces_cerevisiae300064_snR5    ATCATTCAATAAACTGATCTTCCGGATTACCATGCTTAAGACATCA...   \n",
       "Saccharomyces_cerevisiae300065_snR9    GGGAATATAATACTAAATACTCTGTTATATAGAACTTTCTACGCCT...   \n",
       "Saccharomyces_cerevisiae300070_snR44   CTCCGGGCTGATAACTAGATGGTGTGATCGGGCAGTATACTAATTT...   \n",
       "Saccharomyces_cerevisiae300073_snR191  TACCAAACCTTTTTGTCAGGGTGCTTCTCTATCCGTTTTAGGATAA...   \n",
       "\n",
       "                                          Label  \n",
       "Arabidopsis_thaliana300005_SnoR100     HACA-box  \n",
       "Arabidopsis_thaliana300008_SnoR103     HACA-box  \n",
       "Arabidopsis_thaliana300009_SnoR104     HACA-box  \n",
       "Arabidopsis_thaliana300014_SnoR109     HACA-box  \n",
       "Arabidopsis_thaliana300016_SnoR110     HACA-box  \n",
       "...                                         ...  \n",
       "Saccharomyces_cerevisiae300063_snR35   HACA-box  \n",
       "Saccharomyces_cerevisiae300064_snR5    HACA-box  \n",
       "Saccharomyces_cerevisiae300065_snR9    HACA-box  \n",
       "Saccharomyces_cerevisiae300070_snR44   HACA-box  \n",
       "Saccharomyces_cerevisiae300073_snR191  HACA-box  \n",
       "\n",
       "[492 rows x 2 columns]"
      ]
     },
     "execution_count": 10,
     "metadata": {},
     "output_type": "execute_result"
    }
   ],
   "source": [
    "df_haca[\"Label\"] = \"HACA-box\"\n",
    "df_haca"
   ]
  },
  {
   "cell_type": "markdown",
   "metadata": {},
   "source": [
    "Combine both DataFrames to create our complete data set. (Save the resulting DataFrame to a csv file)"
   ]
  },
  {
   "cell_type": "code",
   "execution_count": 11,
   "metadata": {},
   "outputs": [
    {
     "data": {
      "text/html": [
       "<div>\n",
       "<style scoped>\n",
       "    .dataframe tbody tr th:only-of-type {\n",
       "        vertical-align: middle;\n",
       "    }\n",
       "\n",
       "    .dataframe tbody tr th {\n",
       "        vertical-align: top;\n",
       "    }\n",
       "\n",
       "    .dataframe thead th {\n",
       "        text-align: right;\n",
       "    }\n",
       "</style>\n",
       "<table border=\"1\" class=\"dataframe\">\n",
       "  <thead>\n",
       "    <tr style=\"text-align: right;\">\n",
       "      <th></th>\n",
       "      <th>Seq</th>\n",
       "      <th>Label</th>\n",
       "    </tr>\n",
       "  </thead>\n",
       "  <tbody>\n",
       "    <tr>\n",
       "      <th>Arabidopsis_thaliana300001_SnoR1b</th>\n",
       "      <td>GGCGAGGATGAATAATGCTAAATTTCTGACACCTCTTGTATGAGGA...</td>\n",
       "      <td>CD-box</td>\n",
       "    </tr>\n",
       "    <tr>\n",
       "      <th>Arabidopsis_thaliana300003_SnoR10-1</th>\n",
       "      <td>AGAAATGATGAGAAATCAGATAAATCTTAGGACACCTTCTGACACA...</td>\n",
       "      <td>CD-box</td>\n",
       "    </tr>\n",
       "    <tr>\n",
       "      <th>Arabidopsis_thaliana300004_SnoR10-2</th>\n",
       "      <td>AAATATGATGATAATAATCAGTAAATATCTTAGGACACCTTCTGAC...</td>\n",
       "      <td>CD-box</td>\n",
       "    </tr>\n",
       "    <tr>\n",
       "      <th>Arabidopsis_thaliana300006_SnoR101</th>\n",
       "      <td>GGGATACACTTGATCTCTGAACTTCACAGGTAAGTTCGCTTGTTGA...</td>\n",
       "      <td>CD-box</td>\n",
       "    </tr>\n",
       "    <tr>\n",
       "      <th>Arabidopsis_thaliana300007_SnoR102</th>\n",
       "      <td>AGAAGTCAATAGACCAGACATTGTGGTAACACTCTCTTTCATGGCA...</td>\n",
       "      <td>CD-box</td>\n",
       "    </tr>\n",
       "    <tr>\n",
       "      <th>...</th>\n",
       "      <td>...</td>\n",
       "      <td>...</td>\n",
       "    </tr>\n",
       "    <tr>\n",
       "      <th>Saccharomyces_cerevisiae300063_snR35</th>\n",
       "      <td>ATACAAAATTAATCGTGCGGATTAATAATCCAGGACTATAAAACCG...</td>\n",
       "      <td>HACA-box</td>\n",
       "    </tr>\n",
       "    <tr>\n",
       "      <th>Saccharomyces_cerevisiae300064_snR5</th>\n",
       "      <td>ATCATTCAATAAACTGATCTTCCGGATTACCATGCTTAAGACATCA...</td>\n",
       "      <td>HACA-box</td>\n",
       "    </tr>\n",
       "    <tr>\n",
       "      <th>Saccharomyces_cerevisiae300065_snR9</th>\n",
       "      <td>GGGAATATAATACTAAATACTCTGTTATATAGAACTTTCTACGCCT...</td>\n",
       "      <td>HACA-box</td>\n",
       "    </tr>\n",
       "    <tr>\n",
       "      <th>Saccharomyces_cerevisiae300070_snR44</th>\n",
       "      <td>CTCCGGGCTGATAACTAGATGGTGTGATCGGGCAGTATACTAATTT...</td>\n",
       "      <td>HACA-box</td>\n",
       "    </tr>\n",
       "    <tr>\n",
       "      <th>Saccharomyces_cerevisiae300073_snR191</th>\n",
       "      <td>TACCAAACCTTTTTGTCAGGGTGCTTCTCTATCCGTTTTAGGATAA...</td>\n",
       "      <td>HACA-box</td>\n",
       "    </tr>\n",
       "  </tbody>\n",
       "</table>\n",
       "<p>1172 rows × 2 columns</p>\n",
       "</div>"
      ],
      "text/plain": [
       "                                                                                     Seq  \\\n",
       "Arabidopsis_thaliana300001_SnoR1b      GGCGAGGATGAATAATGCTAAATTTCTGACACCTCTTGTATGAGGA...   \n",
       "Arabidopsis_thaliana300003_SnoR10-1    AGAAATGATGAGAAATCAGATAAATCTTAGGACACCTTCTGACACA...   \n",
       "Arabidopsis_thaliana300004_SnoR10-2    AAATATGATGATAATAATCAGTAAATATCTTAGGACACCTTCTGAC...   \n",
       "Arabidopsis_thaliana300006_SnoR101     GGGATACACTTGATCTCTGAACTTCACAGGTAAGTTCGCTTGTTGA...   \n",
       "Arabidopsis_thaliana300007_SnoR102     AGAAGTCAATAGACCAGACATTGTGGTAACACTCTCTTTCATGGCA...   \n",
       "...                                                                                  ...   \n",
       "Saccharomyces_cerevisiae300063_snR35   ATACAAAATTAATCGTGCGGATTAATAATCCAGGACTATAAAACCG...   \n",
       "Saccharomyces_cerevisiae300064_snR5    ATCATTCAATAAACTGATCTTCCGGATTACCATGCTTAAGACATCA...   \n",
       "Saccharomyces_cerevisiae300065_snR9    GGGAATATAATACTAAATACTCTGTTATATAGAACTTTCTACGCCT...   \n",
       "Saccharomyces_cerevisiae300070_snR44   CTCCGGGCTGATAACTAGATGGTGTGATCGGGCAGTATACTAATTT...   \n",
       "Saccharomyces_cerevisiae300073_snR191  TACCAAACCTTTTTGTCAGGGTGCTTCTCTATCCGTTTTAGGATAA...   \n",
       "\n",
       "                                          Label  \n",
       "Arabidopsis_thaliana300001_SnoR1b        CD-box  \n",
       "Arabidopsis_thaliana300003_SnoR10-1      CD-box  \n",
       "Arabidopsis_thaliana300004_SnoR10-2      CD-box  \n",
       "Arabidopsis_thaliana300006_SnoR101       CD-box  \n",
       "Arabidopsis_thaliana300007_SnoR102       CD-box  \n",
       "...                                         ...  \n",
       "Saccharomyces_cerevisiae300063_snR35   HACA-box  \n",
       "Saccharomyces_cerevisiae300064_snR5    HACA-box  \n",
       "Saccharomyces_cerevisiae300065_snR9    HACA-box  \n",
       "Saccharomyces_cerevisiae300070_snR44   HACA-box  \n",
       "Saccharomyces_cerevisiae300073_snR191  HACA-box  \n",
       "\n",
       "[1172 rows x 2 columns]"
      ]
     },
     "execution_count": 11,
     "metadata": {},
     "output_type": "execute_result"
    }
   ],
   "source": [
    "df_all = pd.concat([df_cd, df_haca], axis=0)\n",
    "df_all"
   ]
  },
  {
   "cell_type": "markdown",
   "metadata": {},
   "source": [
    "Let's add some features to generate a first impression of our data. <br>\n",
    "Add a column \"Length\" containing the length of the sequence"
   ]
  },
  {
   "cell_type": "code",
   "execution_count": 12,
   "metadata": {},
   "outputs": [],
   "source": [
    "df_all[\"Length\"] = df_all.Seq.map(len)"
   ]
  },
  {
   "cell_type": "markdown",
   "metadata": {},
   "source": [
    "Two commonly used features for DNA sequences are the \"GC content\" and the \"ATGC ratio\".<br>\n",
    "The GC content is the percentage of \"G\"s or \"C\"s in the whole sequence. <br>\n",
    "The ATGC ratio is the ratio of \"A\"s and \"T\"s to \"G\"s and \"C\"s. <br>\n",
    "Create two columns \"GC_content\" and \"ATGC_ratio\" containing the respective feature."
   ]
  },
  {
   "cell_type": "code",
   "execution_count": 13,
   "metadata": {},
   "outputs": [],
   "source": [
    "df_all[\"GC_content\"] = df_all.Seq.map( lambda x: (x.count(\"G\") + x.count(\"C\")) / len(x) )\n",
    "df_all[\"ATGC_ratio\"] = df_all.Seq.map( lambda x: (x.count(\"A\") + x.count(\"T\")) / (x.count(\"G\") + x.count(\"C\")) )"
   ]
  },
  {
   "cell_type": "markdown",
   "metadata": {},
   "source": [
    "Generate a first overview of the data using the DataFrame's describe() method"
   ]
  },
  {
   "cell_type": "code",
   "execution_count": 14,
   "metadata": {},
   "outputs": [
    {
     "data": {
      "text/html": [
       "<div>\n",
       "<style scoped>\n",
       "    .dataframe tbody tr th:only-of-type {\n",
       "        vertical-align: middle;\n",
       "    }\n",
       "\n",
       "    .dataframe tbody tr th {\n",
       "        vertical-align: top;\n",
       "    }\n",
       "\n",
       "    .dataframe thead th {\n",
       "        text-align: right;\n",
       "    }\n",
       "</style>\n",
       "<table border=\"1\" class=\"dataframe\">\n",
       "  <thead>\n",
       "    <tr style=\"text-align: right;\">\n",
       "      <th></th>\n",
       "      <th>Length</th>\n",
       "      <th>GC_content</th>\n",
       "      <th>ATGC_ratio</th>\n",
       "    </tr>\n",
       "  </thead>\n",
       "  <tbody>\n",
       "    <tr>\n",
       "      <th>count</th>\n",
       "      <td>1172.000000</td>\n",
       "      <td>1172.000000</td>\n",
       "      <td>1172.000000</td>\n",
       "    </tr>\n",
       "    <tr>\n",
       "      <th>mean</th>\n",
       "      <td>118.895051</td>\n",
       "      <td>0.417389</td>\n",
       "      <td>1.472921</td>\n",
       "    </tr>\n",
       "    <tr>\n",
       "      <th>std</th>\n",
       "      <td>57.874464</td>\n",
       "      <td>0.073975</td>\n",
       "      <td>0.449738</td>\n",
       "    </tr>\n",
       "    <tr>\n",
       "      <th>min</th>\n",
       "      <td>29.000000</td>\n",
       "      <td>0.220779</td>\n",
       "      <td>0.380435</td>\n",
       "    </tr>\n",
       "    <tr>\n",
       "      <th>25%</th>\n",
       "      <td>79.000000</td>\n",
       "      <td>0.364123</td>\n",
       "      <td>1.149734</td>\n",
       "    </tr>\n",
       "    <tr>\n",
       "      <th>50%</th>\n",
       "      <td>115.000000</td>\n",
       "      <td>0.415485</td>\n",
       "      <td>1.406829</td>\n",
       "    </tr>\n",
       "    <tr>\n",
       "      <th>75%</th>\n",
       "      <td>135.250000</td>\n",
       "      <td>0.465174</td>\n",
       "      <td>1.746324</td>\n",
       "    </tr>\n",
       "    <tr>\n",
       "      <th>max</th>\n",
       "      <td>1004.000000</td>\n",
       "      <td>0.724409</td>\n",
       "      <td>3.529412</td>\n",
       "    </tr>\n",
       "  </tbody>\n",
       "</table>\n",
       "</div>"
      ],
      "text/plain": [
       "            Length   GC_content   ATGC_ratio\n",
       "count  1172.000000  1172.000000  1172.000000\n",
       "mean    118.895051     0.417389     1.472921\n",
       "std      57.874464     0.073975     0.449738\n",
       "min      29.000000     0.220779     0.380435\n",
       "25%      79.000000     0.364123     1.149734\n",
       "50%     115.000000     0.415485     1.406829\n",
       "75%     135.250000     0.465174     1.746324\n",
       "max    1004.000000     0.724409     3.529412"
      ]
     },
     "execution_count": 14,
     "metadata": {},
     "output_type": "execute_result"
    }
   ],
   "source": [
    "df_all.describe()"
   ]
  },
  {
   "cell_type": "markdown",
   "metadata": {},
   "source": [
    "We are also interested in the differences between our classes.<br>\n",
    "<b>Generate a class-wise description using groupby() and describe()<b>"
   ]
  },
  {
   "cell_type": "code",
   "execution_count": 15,
   "metadata": {},
   "outputs": [
    {
     "data": {
      "text/html": [
       "<div>\n",
       "<style scoped>\n",
       "    .dataframe tbody tr th:only-of-type {\n",
       "        vertical-align: middle;\n",
       "    }\n",
       "\n",
       "    .dataframe tbody tr th {\n",
       "        vertical-align: top;\n",
       "    }\n",
       "\n",
       "    .dataframe thead tr th {\n",
       "        text-align: left;\n",
       "    }\n",
       "\n",
       "    .dataframe thead tr:last-of-type th {\n",
       "        text-align: right;\n",
       "    }\n",
       "</style>\n",
       "<table border=\"1\" class=\"dataframe\">\n",
       "  <thead>\n",
       "    <tr>\n",
       "      <th></th>\n",
       "      <th colspan=\"8\" halign=\"left\">Length</th>\n",
       "      <th colspan=\"5\" halign=\"left\">GC_content</th>\n",
       "      <th colspan=\"8\" halign=\"left\">ATGC_ratio</th>\n",
       "    </tr>\n",
       "    <tr>\n",
       "      <th></th>\n",
       "      <th>count</th>\n",
       "      <th>mean</th>\n",
       "      <th>std</th>\n",
       "      <th>min</th>\n",
       "      <th>25%</th>\n",
       "      <th>50%</th>\n",
       "      <th>75%</th>\n",
       "      <th>max</th>\n",
       "      <th>count</th>\n",
       "      <th>mean</th>\n",
       "      <th>...</th>\n",
       "      <th>75%</th>\n",
       "      <th>max</th>\n",
       "      <th>count</th>\n",
       "      <th>mean</th>\n",
       "      <th>std</th>\n",
       "      <th>min</th>\n",
       "      <th>25%</th>\n",
       "      <th>50%</th>\n",
       "      <th>75%</th>\n",
       "      <th>max</th>\n",
       "    </tr>\n",
       "    <tr>\n",
       "      <th>Label</th>\n",
       "      <th></th>\n",
       "      <th></th>\n",
       "      <th></th>\n",
       "      <th></th>\n",
       "      <th></th>\n",
       "      <th></th>\n",
       "      <th></th>\n",
       "      <th></th>\n",
       "      <th></th>\n",
       "      <th></th>\n",
       "      <th></th>\n",
       "      <th></th>\n",
       "      <th></th>\n",
       "      <th></th>\n",
       "      <th></th>\n",
       "      <th></th>\n",
       "      <th></th>\n",
       "      <th></th>\n",
       "      <th></th>\n",
       "      <th></th>\n",
       "      <th></th>\n",
       "    </tr>\n",
       "  </thead>\n",
       "  <tbody>\n",
       "    <tr>\n",
       "      <th>CD-box</th>\n",
       "      <td>680.0</td>\n",
       "      <td>100.876471</td>\n",
       "      <td>50.334428</td>\n",
       "      <td>29.0</td>\n",
       "      <td>73.0</td>\n",
       "      <td>82.0</td>\n",
       "      <td>101.0</td>\n",
       "      <td>421.0</td>\n",
       "      <td>680.0</td>\n",
       "      <td>0.404823</td>\n",
       "      <td>...</td>\n",
       "      <td>0.450704</td>\n",
       "      <td>0.711340</td>\n",
       "      <td>680.0</td>\n",
       "      <td>1.550262</td>\n",
       "      <td>0.465136</td>\n",
       "      <td>0.405797</td>\n",
       "      <td>1.218750</td>\n",
       "      <td>1.485667</td>\n",
       "      <td>1.821429</td>\n",
       "      <td>3.529412</td>\n",
       "    </tr>\n",
       "    <tr>\n",
       "      <th>HACA-box</th>\n",
       "      <td>492.0</td>\n",
       "      <td>143.798780</td>\n",
       "      <td>58.424932</td>\n",
       "      <td>42.0</td>\n",
       "      <td>128.0</td>\n",
       "      <td>134.0</td>\n",
       "      <td>140.0</td>\n",
       "      <td>1004.0</td>\n",
       "      <td>492.0</td>\n",
       "      <td>0.434756</td>\n",
       "      <td>...</td>\n",
       "      <td>0.483737</td>\n",
       "      <td>0.724409</td>\n",
       "      <td>492.0</td>\n",
       "      <td>1.366027</td>\n",
       "      <td>0.404303</td>\n",
       "      <td>0.380435</td>\n",
       "      <td>1.067243</td>\n",
       "      <td>1.316986</td>\n",
       "      <td>1.650543</td>\n",
       "      <td>3.138889</td>\n",
       "    </tr>\n",
       "  </tbody>\n",
       "</table>\n",
       "<p>2 rows × 24 columns</p>\n",
       "</div>"
      ],
      "text/plain": [
       "         Length                                                            \\\n",
       "          count        mean        std   min    25%    50%    75%     max   \n",
       "Label                                                                       \n",
       "CD-box    680.0  100.876471  50.334428  29.0   73.0   82.0  101.0   421.0   \n",
       "HACA-box  492.0  143.798780  58.424932  42.0  128.0  134.0  140.0  1004.0   \n",
       "\n",
       "         GC_content            ...                     ATGC_ratio            \\\n",
       "              count      mean  ...       75%       max      count      mean   \n",
       "Label                          ...                                            \n",
       "CD-box        680.0  0.404823  ...  0.450704  0.711340      680.0  1.550262   \n",
       "HACA-box      492.0  0.434756  ...  0.483737  0.724409      492.0  1.366027   \n",
       "\n",
       "                                                                      \n",
       "               std       min       25%       50%       75%       max  \n",
       "Label                                                                 \n",
       "CD-box    0.465136  0.405797  1.218750  1.485667  1.821429  3.529412  \n",
       "HACA-box  0.404303  0.380435  1.067243  1.316986  1.650543  3.138889  \n",
       "\n",
       "[2 rows x 24 columns]"
      ]
     },
     "execution_count": 15,
     "metadata": {},
     "output_type": "execute_result"
    }
   ],
   "source": [
    "df_all.groupby(\"Label\").describe()"
   ]
  },
  {
   "cell_type": "markdown",
   "metadata": {},
   "source": [
    "To get a visual impression of the distribution of the features in our data we can use the pairplot() function form the seaborn visualization library (https://seaborn.pydata.org/) <br>\n",
    "Generate a pair plot for the DataFrame. What is easily visible using the plot?"
   ]
  },
  {
   "cell_type": "code",
   "execution_count": 16,
   "metadata": {},
   "outputs": [
    {
     "data": {
      "text/plain": [
       "<seaborn.axisgrid.PairGrid at 0x7fec1b4620a0>"
      ]
     },
     "execution_count": 16,
     "metadata": {},
     "output_type": "execute_result"
    },
    {
     "data": {
      "image/png": "[encoded data removed]",
      "text/plain": [
       "<Figure size 540x540 with 12 Axes>"
      ]
     },
     "metadata": {
      "needs_background": "light"
     },
     "output_type": "display_data"
    }
   ],
   "source": [
    "import seaborn as sns # Seaborn visualization library (for pairs plot)\n",
    "sns.pairplot(df_all)"
   ]
  },
  {
   "cell_type": "markdown",
   "metadata": {},
   "source": [
    "Again we are also interested in the differences between the two classes.<br>\n",
    "<b>Generate a pair plot colored by class (Label) (https://seaborn.pydata.org/generated/seaborn.pairplot.html)<b>"
   ]
  },
  {
   "cell_type": "code",
   "execution_count": 17,
   "metadata": {},
   "outputs": [
    {
     "data": {
      "text/plain": [
       "<seaborn.axisgrid.PairGrid at 0x7fec122af490>"
      ]
     },
     "execution_count": 17,
     "metadata": {},
     "output_type": "execute_result"
    },
    {
     "data": {
      "image/png": "[encoded data removed]",
      "text/plain": [
       "<Figure size 625.25x540 with 12 Axes>"
      ]
     },
     "metadata": {
      "needs_background": "light"
     },
     "output_type": "display_data"
    }
   ],
   "source": [
    "sns.pairplot(df_all, hue = 'Label')"
   ]
  },
  {
   "cell_type": "markdown",
   "metadata": {},
   "source": [
    "Let's save the DataFrame to a csv in case we need it later"
   ]
  },
  {
   "cell_type": "code",
   "execution_count": 18,
   "metadata": {},
   "outputs": [],
   "source": [
    "df_all.to_csv(\"df_ALL.csv\")"
   ]
  },
  {
   "cell_type": "markdown",
   "metadata": {},
   "source": [
    "We already noticed above (using describe) that we have a few more CD-box sequences than HACA-box sequences. <br>\n",
    "To balance our dataset we can use the \"resample\" function from scikit-learn (https://scikit-learn.org/stable/modules/generated/sklearn.utils.resample.html).<br>\n",
    "<b>Downsample the larger class to the size of the smaller class and create a new balanced DataFrame.</b>"
   ]
  },
  {
   "cell_type": "code",
   "execution_count": 19,
   "metadata": {},
   "outputs": [
    {
     "data": {
      "text/plain": [
       "HACA-box    492\n",
       "CD-box      492\n",
       "Name: Label, dtype: int64"
      ]
     },
     "execution_count": 19,
     "metadata": {},
     "output_type": "execute_result"
    }
   ],
   "source": [
    "from sklearn.utils import resample\n",
    "rnd_seed=42\n",
    "\n",
    "# We are going to remove the randomly selected sequences\n",
    "df_cd_ds = resample(df_cd, \n",
    "                    replace=False,          # sample without replacement\n",
    "                    n_samples=len(df_cd) - len(df_haca), # class size difference\n",
    "                    random_state=rnd_seed)  # fix seed for reproducible results\n",
    "\n",
    "df_balanced = df_all.drop(index=df_cd_ds.index) # drop the selected sequences\n",
    "df_balanced.Label.value_counts()"
   ]
  },
  {
   "cell_type": "markdown",
   "metadata": {},
   "source": [
    "The sampling procedure should leave us with a representative sample, but let us check that we didn't end up with a skewed sample anyways.<br>\n",
    "<b>Use groupby(), describe() and element-wise substraction to analyse the differences between the balanced and the original data.</b>"
   ]
  },
  {
   "cell_type": "code",
   "execution_count": 20,
   "metadata": {},
   "outputs": [
    {
     "data": {
      "text/html": [
       "<div>\n",
       "<style scoped>\n",
       "    .dataframe tbody tr th:only-of-type {\n",
       "        vertical-align: middle;\n",
       "    }\n",
       "\n",
       "    .dataframe tbody tr th {\n",
       "        vertical-align: top;\n",
       "    }\n",
       "\n",
       "    .dataframe thead tr th {\n",
       "        text-align: left;\n",
       "    }\n",
       "\n",
       "    .dataframe thead tr:last-of-type th {\n",
       "        text-align: right;\n",
       "    }\n",
       "</style>\n",
       "<table border=\"1\" class=\"dataframe\">\n",
       "  <thead>\n",
       "    <tr>\n",
       "      <th></th>\n",
       "      <th colspan=\"8\" halign=\"left\">Length</th>\n",
       "      <th colspan=\"8\" halign=\"left\">GC_content</th>\n",
       "      <th colspan=\"8\" halign=\"left\">ATGC_ratio</th>\n",
       "    </tr>\n",
       "    <tr>\n",
       "      <th></th>\n",
       "      <th>count</th>\n",
       "      <th>mean</th>\n",
       "      <th>std</th>\n",
       "      <th>min</th>\n",
       "      <th>25%</th>\n",
       "      <th>50%</th>\n",
       "      <th>75%</th>\n",
       "      <th>max</th>\n",
       "      <th>count</th>\n",
       "      <th>mean</th>\n",
       "      <th>std</th>\n",
       "      <th>min</th>\n",
       "      <th>25%</th>\n",
       "      <th>50%</th>\n",
       "      <th>75%</th>\n",
       "      <th>max</th>\n",
       "      <th>count</th>\n",
       "      <th>mean</th>\n",
       "      <th>std</th>\n",
       "      <th>min</th>\n",
       "      <th>25%</th>\n",
       "      <th>50%</th>\n",
       "      <th>75%</th>\n",
       "      <th>max</th>\n",
       "    </tr>\n",
       "    <tr>\n",
       "      <th>Label</th>\n",
       "      <th></th>\n",
       "      <th></th>\n",
       "      <th></th>\n",
       "      <th></th>\n",
       "      <th></th>\n",
       "      <th></th>\n",
       "      <th></th>\n",
       "      <th></th>\n",
       "      <th></th>\n",
       "      <th></th>\n",
       "      <th></th>\n",
       "      <th></th>\n",
       "      <th></th>\n",
       "      <th></th>\n",
       "      <th></th>\n",
       "      <th></th>\n",
       "      <th></th>\n",
       "      <th></th>\n",
       "      <th></th>\n",
       "      <th></th>\n",
       "      <th></th>\n",
       "      <th></th>\n",
       "      <th></th>\n",
       "      <th></th>\n",
       "    </tr>\n",
       "  </thead>\n",
       "  <tbody>\n",
       "    <tr>\n",
       "      <th>CD-box</th>\n",
       "      <td>-188.0</td>\n",
       "      <td>1.038164</td>\n",
       "      <td>1.554895</td>\n",
       "      <td>22.0</td>\n",
       "      <td>0.75</td>\n",
       "      <td>0.0</td>\n",
       "      <td>1.25</td>\n",
       "      <td>0.0</td>\n",
       "      <td>-188.0</td>\n",
       "      <td>0.00375</td>\n",
       "      <td>0.00058</td>\n",
       "      <td>0.0</td>\n",
       "      <td>0.003204</td>\n",
       "      <td>0.004344</td>\n",
       "      <td>0.002373</td>\n",
       "      <td>0.0</td>\n",
       "      <td>-188.0</td>\n",
       "      <td>-0.024679</td>\n",
       "      <td>-0.011034</td>\n",
       "      <td>0.0</td>\n",
       "      <td>-0.011619</td>\n",
       "      <td>-0.026528</td>\n",
       "      <td>-0.025275</td>\n",
       "      <td>0.0</td>\n",
       "    </tr>\n",
       "    <tr>\n",
       "      <th>HACA-box</th>\n",
       "      <td>0.0</td>\n",
       "      <td>0.000000</td>\n",
       "      <td>0.000000</td>\n",
       "      <td>0.0</td>\n",
       "      <td>0.00</td>\n",
       "      <td>0.0</td>\n",
       "      <td>0.00</td>\n",
       "      <td>0.0</td>\n",
       "      <td>0.0</td>\n",
       "      <td>0.00000</td>\n",
       "      <td>0.00000</td>\n",
       "      <td>0.0</td>\n",
       "      <td>0.000000</td>\n",
       "      <td>0.000000</td>\n",
       "      <td>0.000000</td>\n",
       "      <td>0.0</td>\n",
       "      <td>0.0</td>\n",
       "      <td>0.000000</td>\n",
       "      <td>0.000000</td>\n",
       "      <td>0.0</td>\n",
       "      <td>0.000000</td>\n",
       "      <td>0.000000</td>\n",
       "      <td>0.000000</td>\n",
       "      <td>0.0</td>\n",
       "    </tr>\n",
       "  </tbody>\n",
       "</table>\n",
       "</div>"
      ],
      "text/plain": [
       "         Length                                                 GC_content                                                           ATGC_ratio                                                            \n",
       "          count      mean       std   min   25%  50%   75%  max      count     mean      std  min       25%       50%       75%  max      count      mean       std  min       25%       50%       75%  max\n",
       "Label                                                                                                                                                                                                      \n",
       "CD-box   -188.0  1.038164  1.554895  22.0  0.75  0.0  1.25  0.0     -188.0  0.00375  0.00058  0.0  0.003204  0.004344  0.002373  0.0     -188.0 -0.024679 -0.011034  0.0 -0.011619 -0.026528 -0.025275  0.0\n",
       "HACA-box    0.0  0.000000  0.000000   0.0  0.00  0.0  0.00  0.0        0.0  0.00000  0.00000  0.0  0.000000  0.000000  0.000000  0.0        0.0  0.000000  0.000000  0.0  0.000000  0.000000  0.000000  0.0"
      ]
     },
     "execution_count": 20,
     "metadata": {},
     "output_type": "execute_result"
    }
   ],
   "source": [
    "pd.set_option('display.max_columns', None)\n",
    "pd.set_option('display.width', 1000)\n",
    "\n",
    "df_balanced.groupby(\"Label\").describe() - df_all.groupby(\"Label\").describe()"
   ]
  },
  {
   "cell_type": "code",
   "execution_count": 21,
   "metadata": {},
   "outputs": [],
   "source": [
    "pd.reset_option(\"display\")"
   ]
  },
  {
   "cell_type": "markdown",
   "metadata": {},
   "source": [
    "Let's save the balanced DataFrame to a csv in case we need it later"
   ]
  },
  {
   "cell_type": "code",
   "execution_count": 22,
   "metadata": {},
   "outputs": [],
   "source": [
    "df_balanced.to_csv(\"df_balanced.csv\")"
   ]
  },
  {
   "cell_type": "markdown",
   "metadata": {},
   "source": [
    "## A first simple classifier\n",
    "We already noticed using the pair plot that the sequence length distributions of the two classes seem to be quite different. Can we train a simple classifier with only the features we already constructed? The performance of this classifier can then be used to establish a baseline for our upcoming more complex models (i.e CNNs).<br>\n",
    "Wait! First things first. We need to split the data into a set used for training and a set used for testing.<br>\n",
    "<b>Use sklearn's train_test_split to create sets of training and test data and corresponding sets of labels. Use an 80/20 split.</b>"
   ]
  },
  {
   "cell_type": "code",
   "execution_count": 23,
   "metadata": {},
   "outputs": [],
   "source": [
    "from sklearn.model_selection import train_test_split\n",
    "rnd_seed=42\n",
    "\n",
    "xTrain, xTest, yTrain, yTest = train_test_split( df_balanced, df_balanced.Label, test_size=0.2, random_state=rnd_seed )"
   ]
  },
  {
   "cell_type": "code",
   "execution_count": 24,
   "metadata": {},
   "outputs": [
    {
     "name": "stdout",
     "output_type": "stream",
     "text": [
      "HACA-box    394\n",
      "CD-box      393\n",
      "Name: Label, dtype: int64\n",
      "CD-box      99\n",
      "HACA-box    98\n",
      "Name: Label, dtype: int64\n"
     ]
    }
   ],
   "source": [
    "print(yTrain.value_counts())\n",
    "print(yTest.value_counts())"
   ]
  },
  {
   "cell_type": "markdown",
   "metadata": {},
   "source": [
    "Now we are going to train a \"Naive Bayes\" classifier using our features (https://scikit-learn.org/stable/modules/naive_bayes.html) <br>\n",
    "<b>Fit a GaussianNB classifier to the training dataset and generate predictions for the test dataset. Does it make sense to include all of the features?<b>"
   ]
  },
  {
   "cell_type": "code",
   "execution_count": 25,
   "metadata": {},
   "outputs": [
    {
     "data": {
      "text/plain": [
       "array(['HACA-box', 'CD-box', 'HACA-box', 'HACA-box', 'CD-box', 'HACA-box',\n",
       "       'HACA-box', 'HACA-box', 'HACA-box', 'CD-box', 'CD-box', 'HACA-box',\n",
       "       'HACA-box', 'HACA-box', 'HACA-box', 'CD-box', 'CD-box', 'HACA-box',\n",
       "       'CD-box', 'CD-box', 'CD-box', 'CD-box', 'HACA-box', 'HACA-box',\n",
       "       'HACA-box', 'CD-box', 'CD-box', 'CD-box', 'CD-box', 'CD-box',\n",
       "       'CD-box', 'CD-box', 'HACA-box', 'HACA-box', 'HACA-box', 'HACA-box',\n",
       "       'HACA-box', 'CD-box', 'CD-box', 'CD-box', 'HACA-box', 'CD-box',\n",
       "       'CD-box', 'CD-box', 'CD-box', 'CD-box', 'HACA-box', 'CD-box',\n",
       "       'HACA-box', 'CD-box', 'HACA-box', 'HACA-box', 'CD-box', 'HACA-box',\n",
       "       'CD-box', 'HACA-box', 'HACA-box', 'HACA-box', 'HACA-box',\n",
       "       'HACA-box', 'CD-box', 'CD-box', 'CD-box', 'CD-box', 'CD-box',\n",
       "       'CD-box', 'CD-box', 'CD-box', 'CD-box', 'HACA-box', 'CD-box',\n",
       "       'CD-box', 'CD-box', 'HACA-box', 'HACA-box', 'CD-box', 'HACA-box',\n",
       "       'CD-box', 'HACA-box', 'CD-box', 'CD-box', 'CD-box', 'CD-box',\n",
       "       'HACA-box', 'CD-box', 'HACA-box', 'CD-box', 'HACA-box', 'CD-box',\n",
       "       'HACA-box', 'CD-box', 'CD-box', 'CD-box', 'HACA-box', 'HACA-box',\n",
       "       'CD-box', 'HACA-box', 'HACA-box', 'HACA-box', 'HACA-box',\n",
       "       'HACA-box', 'HACA-box', 'HACA-box', 'HACA-box', 'HACA-box',\n",
       "       'HACA-box', 'CD-box', 'HACA-box', 'HACA-box', 'HACA-box', 'CD-box',\n",
       "       'CD-box', 'HACA-box', 'CD-box', 'HACA-box', 'HACA-box', 'CD-box',\n",
       "       'CD-box', 'CD-box', 'CD-box', 'CD-box', 'HACA-box', 'CD-box',\n",
       "       'HACA-box', 'HACA-box', 'CD-box', 'HACA-box', 'CD-box', 'HACA-box',\n",
       "       'HACA-box', 'HACA-box', 'CD-box', 'CD-box', 'HACA-box', 'HACA-box',\n",
       "       'HACA-box', 'CD-box', 'CD-box', 'CD-box', 'CD-box', 'CD-box',\n",
       "       'HACA-box', 'CD-box', 'HACA-box', 'CD-box', 'CD-box', 'CD-box',\n",
       "       'CD-box', 'CD-box', 'CD-box', 'HACA-box', 'CD-box', 'CD-box',\n",
       "       'HACA-box', 'HACA-box', 'HACA-box', 'CD-box', 'CD-box', 'HACA-box',\n",
       "       'CD-box', 'HACA-box', 'CD-box', 'CD-box', 'HACA-box', 'HACA-box',\n",
       "       'HACA-box', 'HACA-box', 'CD-box', 'CD-box', 'HACA-box', 'HACA-box',\n",
       "       'CD-box', 'HACA-box', 'CD-box', 'HACA-box', 'HACA-box', 'CD-box',\n",
       "       'CD-box', 'HACA-box', 'CD-box', 'CD-box', 'CD-box', 'CD-box',\n",
       "       'CD-box', 'CD-box', 'CD-box', 'CD-box', 'HACA-box', 'HACA-box',\n",
       "       'HACA-box', 'HACA-box', 'CD-box', 'HACA-box', 'HACA-box', 'CD-box',\n",
       "       'CD-box', 'CD-box'], dtype='<U8')"
      ]
     },
     "execution_count": 25,
     "metadata": {},
     "output_type": "execute_result"
    }
   ],
   "source": [
    "from sklearn.naive_bayes import GaussianNB\n",
    "\n",
    "gnb = GaussianNB() # create classifier\n",
    "gnb.fit(xTrain[[\"Length\",\"GC_content\",\"ATGC_ratio\"]], yTrain) # train using only length and GC\n",
    "yPred = gnb.predict(xTest[[\"Length\",\"GC_content\",\"ATGC_ratio\"]]) # generate predictions\n",
    "\n",
    "yPred"
   ]
  },
  {
   "cell_type": "markdown",
   "metadata": {},
   "source": [
    "To assess the quality of our prediction scikit-learn provides us with many different metrics. (https://scikit-learn.org/stable/modules/classes.html#module-sklearn.metrics)<br>\n",
    "<b>Use sklearn.metrics to print out the accuracy_score and the matthews_corrcoef for the generated predictions.</b> (Are these good choices for our problem?)"
   ]
  },
  {
   "cell_type": "code",
   "execution_count": 26,
   "metadata": {},
   "outputs": [
    {
     "name": "stdout",
     "output_type": "stream",
     "text": [
      "Accuracy: 0.6954314720812182\n",
      "MCC: 0.3913861082992071\n"
     ]
    }
   ],
   "source": [
    "from sklearn import metrics\n",
    "\n",
    "print(\"Accuracy:\", metrics.accuracy_score(yTest, yPred))\n",
    "print(\"MCC:\", metrics.matthews_corrcoef(yTest, yPred))"
   ]
  },
  {
   "cell_type": "markdown",
   "metadata": {},
   "source": [
    "Scikit-learn also provides a classification report which includes commonly used metrics (https://scikit-learn.org/stable/modules/generated/sklearn.metrics.classification_report.html#sklearn.metrics.classification_report)<br>\n",
    "<b>Print out the classification report for the predictions<b>"
   ]
  },
  {
   "cell_type": "code",
   "execution_count": 27,
   "metadata": {},
   "outputs": [
    {
     "name": "stdout",
     "output_type": "stream",
     "text": [
      "              precision    recall  f1-score   support\n",
      "\n",
      "      CD-box       0.69      0.73      0.71        99\n",
      "    HACA-box       0.71      0.66      0.68        98\n",
      "\n",
      "    accuracy                           0.70       197\n",
      "   macro avg       0.70      0.70      0.70       197\n",
      "weighted avg       0.70      0.70      0.70       197\n",
      "\n"
     ]
    }
   ],
   "source": [
    "from sklearn.metrics import classification_report\n",
    "\n",
    "print(classification_report(yTest, yPred))"
   ]
  },
  {
   "cell_type": "markdown",
   "metadata": {},
   "source": [
    "Another common way of looking at the confusion of a classifier is the confusion matrix.<br>\n",
    "<b>Use scikit-learn to create a confusion matrix for the predictions and print it</b>"
   ]
  },
  {
   "cell_type": "code",
   "execution_count": 28,
   "metadata": {},
   "outputs": [
    {
     "data": {
      "text/plain": [
       "array([[72, 27],\n",
       "       [33, 65]])"
      ]
     },
     "execution_count": 28,
     "metadata": {},
     "output_type": "execute_result"
    }
   ],
   "source": [
    "from sklearn.metrics import confusion_matrix\n",
    "\n",
    "conf_mat = confusion_matrix(yTest, yPred)\n",
    "conf_mat"
   ]
  },
  {
   "cell_type": "markdown",
   "metadata": {},
   "source": [
    "Not that pretty, is it? We can use the seaborn.heatmap and matplotlib to create a matrix that is a bit more appealing to the eye.<br>\n",
    "<b>Adjust the code below to generate a pretty confusion matrix<b>"
   ]
  },
  {
   "cell_type": "code",
   "execution_count": 29,
   "metadata": {},
   "outputs": [
    {
     "data": {
      "image/png": "[encoded data removed]",
      "text/plain": [
       "<Figure size 432x288 with 2 Axes>"
      ]
     },
     "metadata": {
      "needs_background": "light"
     },
     "output_type": "display_data"
    }
   ],
   "source": [
    "import seaborn as sns\n",
    "import matplotlib.pyplot as plt  \n",
    "\n",
    "classes = [\"CD-box\", \"HACA-box\"]\n",
    "df_confmat = pd.DataFrame(conf_mat, columns=df_balanced.Label.unique(), index=df_balanced.Label.unique())\n",
    "\n",
    "ax= plt.subplot()\n",
    "\n",
    "sns.heatmap(df_confmat, annot=True, ax=ax, cmap=\"Blues\"); #annot=True to annotate cells\n",
    "\n",
    "ax.set_xlabel('Predicted labels')\n",
    "ax.set_ylabel('True labels') \n",
    "ax.set_title('Confusion Matrix')\n",
    "\n",
    "plt.show()"
   ]
  },
  {
   "cell_type": "markdown",
   "metadata": {},
   "source": [
    "So now that we have established a (maybe crude) baseline for our classification problem let's create a simple CNN and find out if this will improve our scores in the next notebook \"02_first_CNN\""
   ]
  },
  {
   "cell_type": "code",
   "execution_count": null,
   "metadata": {},
   "outputs": [],
   "source": []
  },
  {
   "cell_type": "code",
   "execution_count": null,
   "metadata": {},
   "outputs": [],
   "source": []
  },
  {
   "cell_type": "code",
   "execution_count": null,
   "metadata": {},
   "outputs": [],
   "source": []
  },
  {
   "cell_type": "code",
   "execution_count": null,
   "metadata": {},
   "outputs": [],
   "source": []
  },
  {
   "cell_type": "code",
   "execution_count": null,
   "metadata": {},
   "outputs": [],
   "source": []
  },
  {
   "cell_type": "code",
   "execution_count": null,
   "metadata": {},
   "outputs": [],
   "source": []
  },
  {
   "cell_type": "code",
   "execution_count": null,
   "metadata": {},
   "outputs": [],
   "source": []
  },
  {
   "cell_type": "code",
   "execution_count": null,
   "metadata": {},
   "outputs": [],
   "source": []
  }
 ],
 "metadata": {
  "kernelspec": {
   "display_name": "Python 3",
   "language": "python",
   "name": "python3"
  },
  "language_info": {
   "codemirror_mode": {
    "name": "ipython",
    "version": 3
   },
   "file_extension": ".py",
   "mimetype": "text/x-python",
   "name": "python",
   "nbconvert_exporter": "python",
   "pygments_lexer": "ipython3",
   "version": "3.9.2"
  }
 },
 "nbformat": 4,
 "nbformat_minor": 4
}
