{
 "cells": [
  {
   "cell_type": "markdown",
   "id": "95723ba3-57b4-4c92-bcd8-1b1403365be8",
   "metadata": {},
   "source": [
    "<sub>Felix Becker, Lars Gabriel University of Greifswald, Germany</sub>\n",
    "# Exercise Set 1 - 1\n",
    "\n",
    "The potential of machine learning ultimatively comes from pattern detection in large amounts of data. However, before we can train a model and make predictions, we have to:\n",
    " - Analyse the raw data (which filetypes, how is the data organized?)\n",
    " - Read data file(s) into memory\n",
    " - Make statistical analyses (e.g. plots)  \n",
    " - Manipulate the data (reshape and mathematical operations), remove or add features\n",
    " \n",
    "## Raw data\n",
    "\n",
    "Inspect the file *bikes-summerdays-full.tbl*. How many datapoints and attributes are there? What delimiter is used? Has the file one or more header rows? Are there missing values?\n",
    "\n",
    "*Tip: Double clicking the file in jupyter opens a CSVTable view. One can also open the file as raw text by right clicking $\\rightarrow$ Open With $\\rightarrow$ Editor.*\n",
    "\n",
    "## Read the file\n",
    "\n"
   ]
  },
  {
   "cell_type": "code",
   "execution_count": 1,
   "id": "7a3f1d37-b2f4-44ca-a2f4-2a1876631f47",
   "metadata": {},
   "outputs": [],
   "source": [
    "import pandas as pd\n",
    "import matplotlib.pyplot as plt\n",
    "import numpy as np"
   ]
  },
  {
   "cell_type": "markdown",
   "id": "07fef8f7-06a0-4e84-95e4-347f17d7b540",
   "metadata": {},
   "source": [
    "In the cell below, read the data file as a pandas dataframe called ``df``. Take care to handle the header line of the file correctly and use the right delimiter/separator."
   ]
  },
  {
   "cell_type": "code",
   "execution_count": 3,
   "id": "45d83c6b-29b6-492f-8ebd-6a7ee405d7a9",
   "metadata": {},
   "outputs": [],
   "source": [
    "df = pd.read_csv(\"../bikes-summerdays-full.csv\", sep = \";\")"
   ]
  },
  {
   "cell_type": "code",
   "execution_count": 7,
   "id": "2fc5ec9d-d6b4-4ae9-a2b2-2bff72df6b61",
   "metadata": {},
   "outputs": [
    {
     "data": {
      "text/plain": [
       "0         9.84\n",
       "1         9.02\n",
       "2         9.02\n",
       "3         9.84\n",
       "4         9.84\n",
       "         ...  \n",
       "10881    15.58\n",
       "10882    14.76\n",
       "10883    13.94\n",
       "10884    13.94\n",
       "10885    13.12\n",
       "Name: temp, Length: 10886, dtype: float64"
      ]
     },
     "execution_count": 7,
     "metadata": {},
     "output_type": "execute_result"
    }
   ],
   "source": [
    "df[\"temp\"]"
   ]
  },
  {
   "cell_type": "markdown",
   "id": "c2d94439-106d-4fb7-8e31-94c950f66a08",
   "metadata": {},
   "source": [
    "Print the following things:\n",
    "- What is the shape of the dataframe?\n",
    "- What are the datatypes of the columns \"season\" and \"temp\"?\n",
    "- What is the maximum and minimum temperature?"
   ]
  },
  {
   "cell_type": "code",
   "execution_count": 4,
   "id": "e9bd1b8c-1038-4c5f-996f-75b0de039ae4",
   "metadata": {},
   "outputs": [
    {
     "name": "stdout",
     "output_type": "stream",
     "text": [
      "df shape: (10886, 12)\n",
      "dtype season: int64\n",
      "dtype temp: float64\n",
      "temp: 0.82 - 41.0\n",
      "atemp: 0.76 - 45.455\n"
     ]
    }
   ],
   "source": [
    "print(\"df shape:\", df.shape)\n",
    "print(\"dtype season:\", df[\"season\"].dtype)\n",
    "print(\"dtype temp:\", df[\"temp\"].dtype)\n",
    "print(\"temp:\", np.amin(df[\"temp\"]), \"-\", np.amax(df[\"temp\"]))\n",
    "print(\"atemp:\", np.amin(df[\"atemp\"]), \"-\", np.amax(df[\"atemp\"]))"
   ]
  },
  {
   "cell_type": "markdown",
   "id": "2f5b2a1e-fb45-4f44-a2a7-f258f9592fd6",
   "metadata": {},
   "source": [
    "The dataset contains dates that are rather useless if stored as strings. The following cell will convert *datetime* to a proper time format that allows the extraction of hours, days and month."
   ]
  },
  {
   "cell_type": "code",
   "execution_count": 8,
   "id": "be146f33-5d68-4978-9c3a-c875c2932879",
   "metadata": {},
   "outputs": [],
   "source": [
    "df[\"datetime\"] = pd.DatetimeIndex(df[\"datetime\"])\n",
    "df[\"hour\"] = [t.hour for t in df[\"datetime\"]]\n",
    "df[\"dayofweek\"] = [t.dayofweek for t in df[\"datetime\"]]\n",
    "df[\"month\"] = [t.month for t in df[\"datetime\"]]"
   ]
  },
  {
   "cell_type": "markdown",
   "id": "12f7b12f-c2ca-47f4-92e6-a2599cbd3584",
   "metadata": {},
   "source": [
    "## Getting warm: Simple statistical analyses\n",
    "\n",
    "The original data came with a description for each data column. Lets assume we don't have this description and want to find out what the encoding 1,2,3,4 for \"season\" means. \n",
    "\n",
    "- Print (a subset of) the values from the \"season\" column\n",
    "- Use the helper function below to create boxplots for the temperatures of the 4 seasons and make a guess which number corresponds to which season.\n",
    "\n",
    "*Tips (assuming X,Y are vectors of the same size):*\n",
    "- *``X == i`` returns a boolean vector that has \"true\" on each position that matches i.*\n",
    "- *use ``Y[X == i]`` to retrieve subsets*"
   ]
  },
  {
   "cell_type": "code",
   "execution_count": 6,
   "id": "7151a36e-ca50-49a6-a13e-63772fbfb0e1",
   "metadata": {},
   "outputs": [
    {
     "data": {
      "image/png": "[encoded data removed]",
      "text/plain": [
       "<Figure size 432x288 with 1 Axes>"
      ]
     },
     "metadata": {
      "needs_background": "light"
     },
     "output_type": "display_data"
    }
   ],
   "source": [
    "# expects data to be a list of length 4, where each entry is a np.array of temperatures\n",
    "def boxplots(data):\n",
    "    fig, ax = plt.subplots()\n",
    "    ax.set_title(\"Temperature by season.\")\n",
    "    ax.set_xlabel(\"seasons\")\n",
    "    ax.set_ylabel(\"temperature in celsius\")\n",
    "    ax.boxplot(data)\n",
    "    \n",
    "# YOUR CODE STARTS\n",
    "data = [df[\"temp\"][df[\"season\"] == i] for i in range(1,5)]\n",
    "# YOUR CODE ENDS\n",
    "\n",
    "boxplots(data)"
   ]
  },
  {
   "cell_type": "markdown",
   "id": "9fc570e6-3124-44db-ab3c-d0f63cb85428",
   "metadata": {},
   "source": [
    "## Create a datamatrix\n",
    "\n",
    "Create a np matrix $X$ with the following columns:\n",
    "- workingday, holiday\n",
    "- normalized: windspeed, humidity, temp, atemp\n",
    "- squares of temp and atemp\n",
    "- one hot represented (!) weather and season\n",
    "- hour, dayofweek, month (normalized to (0,1])\n",
    "\n",
    "*Tip: Use the functions `to_one_hot` and `normalize`*"
   ]
  },
  {
   "cell_type": "code",
   "execution_count": 11,
   "id": "af7f8ad3-c0c8-4d1f-ac6e-c111908dca39",
   "metadata": {},
   "outputs": [
    {
     "data": {
      "text/plain": [
       "(10886, 19)"
      ]
     },
     "execution_count": 11,
     "metadata": {},
     "output_type": "execute_result"
    }
   ],
   "source": [
    "m = df.shape[0] #number of datapoints\n",
    "n = 19 #number of attributes\n",
    "\n",
    "X = np.zeros((m, n)) # initialize with all zeros\n",
    "\n",
    "#assumes that classes is a vector of length m with elements in range 0,1,...,num_classes-1\n",
    "#returns a matrix of shape (m, num_classes)\n",
    "def to_one_hot(classes, num_classes):\n",
    "    return np.eye(num_classes)[classes]\n",
    "\n",
    "#assumes that X is a vector, returns a normalized X\n",
    "def normalize(X):\n",
    "    return (X - np.mean(X)) / np.std(X)\n",
    "\n",
    "#example:\n",
    "X[:,0] = df[\"workingday\"]\n",
    "\n",
    "# YOUR CODE STARTS\n",
    "# add the remaining columns X[:,1], X[:,2], ...\n",
    "X[:,1] = df[\"holiday\"]\n",
    "X[:,2] = normalize(df[\"windspeed\"])\n",
    "X[:,3] = normalize(df[\"humidity\"])\n",
    "X[:,4] = normalize(df[\"temp\"])\n",
    "X[:,5] = normalize(df[\"atemp\"])\n",
    "X[:,6] = X[:,4]**2\n",
    "X[:,7] = X[:,5]**2\n",
    "X[:,8:12] = to_one_hot(df[\"weather\"]-1, np.unique(df[\"weather\"]).size)\n",
    "X[:,12:16] = to_one_hot(df[\"season\"]-1, np.unique(df[\"season\"]).size)\n",
    "X[:,16] = df[\"hour\"] / 24\n",
    "X[:,17] = df[\"dayofweek\"] / 7\n",
    "X[:,18] = df[\"month\"] / 12\n",
    "# YOUR CODE ENDS\n",
    "\n",
    "X.shape"
   ]
  },
  {
   "cell_type": "code",
   "execution_count": 12,
   "id": "6b30fa7a-ca88-4e6f-8622-001cd21bff54",
   "metadata": {},
   "outputs": [],
   "source": [
    "#save X to a (binary) file and use it later in another notebook\n",
    "np.save(\"X\", X)\n",
    "#for convenience, also save y\n",
    "np.save(\"y\", df[\"count\"])"
   ]
  },
  {
   "cell_type": "markdown",
   "id": "bddec830-8a3c-49c1-8fd5-49cdb07850bc",
   "metadata": {},
   "source": [
    "## Outlook\n",
    "\n",
    "Thats it for now. We will use $X$ later in the section for neural networks. But there is plenty to be learned before."
   ]
  },
  {
   "cell_type": "code",
   "execution_count": null,
   "id": "6e70e122-a17e-4b96-98ba-43869bfa8028",
   "metadata": {},
   "outputs": [],
   "source": []
  }
 ],
 "metadata": {
  "kernelspec": {
   "display_name": "Python 3",
   "language": "python",
   "name": "python3"
  },
  "language_info": {
   "codemirror_mode": {
    "name": "ipython",
    "version": 3
   },
   "file_extension": ".py",
   "mimetype": "text/x-python",
   "name": "python",
   "nbconvert_exporter": "python",
   "pygments_lexer": "ipython3",
   "version": "3.9.2"
  }
 },
 "nbformat": 4,
 "nbformat_minor": 5
}
