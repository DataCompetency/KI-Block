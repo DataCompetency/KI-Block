{
 "cells": [
  {
   "cell_type": "markdown",
   "metadata": {
    "slideshow": {
     "slide_type": "slide"
    }
   },
   "source": [
    "<p style=\"text-align:right;\">Mario Stanke, University of Greifswald, Germany</p>\n",
    "\n",
    "# Solution to Exercise Set 1, Exercise 2 - A Quadratic Model\n",
    "\n",
    "In this notebook we extend the solution from the previous exercise (different loss) to a quadratic prediction function \n",
    "\n",
    "$$t = h_{\\pmb{\\theta}}(x) := \\theta_0 + \\theta_1 x + \\theta_2 x^2,$$\n",
    "\n",
    "where $x = x_1 = $ temperature. The loss function remains $ \\ell(y, t) = 5 \\cdot \\texttt{relu}(y-t) + \\texttt{relu}(t-y)$.\n",
    "\n",
    "**Instructions:**\n",
    "\n",
    " 1. Run the whole notebook to produce the results from the linear fit at first: Kernel -> Restart & Run All\n",
    " 2. Skip to **1. Compute Data Matrix with Squares** and implement the extension of the data matrix. Rerun notebook cells from there on."
   ]
  },
  {
   "cell_type": "code",
   "execution_count": 1,
   "metadata": {
    "scrolled": true,
    "slideshow": {
     "slide_type": "slide"
    }
   },
   "outputs": [],
   "source": [
    "# First import libraries\n",
    "import pandas as pd\n",
    "import matplotlib.pyplot as plt\n",
    "import numpy as np\n",
    "import tensorflow as tf"
   ]
  },
  {
   "cell_type": "markdown",
   "metadata": {},
   "source": [
    "### Implement $\\ell(y, t)$ with tensorflow functions."
   ]
  },
  {
   "cell_type": "code",
   "execution_count": 2,
   "metadata": {},
   "outputs": [],
   "source": [
    "def ell(y, t):\n",
    "    '''\n",
    "        Input: y and t are vectors of the same size.\n",
    "        Output: vector of 5 * relu(y-t) + relu(t-y) applied to each component of y and t\n",
    "    '''\n",
    "    return 5 * tf.nn.relu(y - t) + tf.nn.relu(t - y)"
   ]
  },
  {
   "cell_type": "code",
   "execution_count": 3,
   "metadata": {
    "slideshow": {
     "slide_type": "slide"
    }
   },
   "outputs": [],
   "source": [
    "# load the training data from the table file to a pandas data frame\n",
    "df = pd.read_csv(\"bikes-summerdays.tbl\", sep='\\s+')\n",
    "df['count'] = df['count'].astype(float) # convert count data to floats\n",
    "m, n_cols = df.shape # training set size and number of columns "
   ]
  },
  {
   "cell_type": "code",
   "execution_count": 4,
   "metadata": {
    "scrolled": true
   },
   "outputs": [],
   "source": [
    "def scatterplot_rentals():\n",
    "    ''' Plot the bike rental counts versus the temperature.'''\n",
    "    _, ax = plt.subplots()\n",
    "    ax.scatter(df[\"temp\"], df[\"count\"])\n",
    "    plt.title(\"bike rentals versus temperature\")\n",
    "    plt.xlabel('temperature [' + r'$^\\circ$' + 'C]')\n",
    "    plt.ylabel('rental count per hour');\n",
    "    return ax"
   ]
  },
  {
   "cell_type": "markdown",
   "metadata": {},
   "source": [
    "## Create *original* data matrix $X$ and response vector $y$"
   ]
  },
  {
   "cell_type": "code",
   "execution_count": 5,
   "metadata": {},
   "outputs": [],
   "source": [
    "# extract response vector\n",
    "y_train = np.array(df['count']) \n",
    "\n",
    "# extract feature columns\n",
    "n = n_cols - 1 # number of features\n",
    "temps = np.array(df.loc[:, df.columns != 'count']) # matrix of all other columns (here only one col)\n",
    "\n",
    "# make data matrix X\n",
    "X_train = np.ones((m, n+1)) # initialize with all ones\n",
    "# overwrite all but the zero-th column with features\n",
    "X_train[:,1:n+1] = temps / 10 - 2.5 # normalize temperatures so they are roughly in [-1,1] "
   ]
  },
  {
   "cell_type": "markdown",
   "metadata": {},
   "source": [
    "## 1. Compute Data Matrix with Squares\n",
    "Now \n",
    "$$\\texttt{X_train} = \\begin{pmatrix}\n",
    "1 & x^{(1)} \\\\\n",
    "\\vdots & \\vdots \\\\ \n",
    "1 & x^{(m)} \\\\\n",
    "\\end{pmatrix}.$$\n",
    "Compute a matrix\n",
    "$$\\begin{pmatrix}\n",
    "1 & x^{(1)} & (x^{(1)})^2\\\\\n",
    "\\vdots & \\vdots & \\vdots \\\\ \n",
    "1 & x^{(m)} & (x^{(m)})^2\\\\\n",
    "\\end{pmatrix}$$\n",
    "and call it again ```X_train```. This can be achieved by concatenating the original ```X_train``` with an $m \\times 1$ matrix that contains the elementwise squares of column number 1 of original ```X_train```.  *Tip:* [numpy.concatenate](https://docs.scipy.org/doc/numpy/reference/generated/numpy.concatenate.html)"
   ]
  },
  {
   "cell_type": "code",
   "execution_count": 6,
   "metadata": {
    "scrolled": true
   },
   "outputs": [
    {
     "name": "stdout",
     "output_type": "stream",
     "text": [
      "(1482, 1)\n",
      "X_train:\n",
      " [[ 1.       -1.188     1.411344]\n",
      " [ 1.       -1.188     1.411344]\n",
      " [ 1.       -1.188     1.411344]\n",
      " [ 1.       -1.106     1.223236]\n",
      " [ 1.       -1.024     1.048576]]\n"
     ]
    }
   ],
   "source": [
    "if (X_train.shape[1] == 2): # prevent another extension if cell has already been executed once\n",
    "    # ADD YOUR CODE HERE\n",
    "    C = X_train[:,[1]] # column 1, an m x 1 matrix\n",
    "    print(C.shape) # must be (1482, 1)\n",
    "    C = C**2 # square elementwise\n",
    "    X_train = np.concatenate((X_train, C), axis = 1) # concatenate X_train and C along first axis\n",
    "    # END OF YOUR CODE\n",
    "    \n",
    "print(\"X_train:\\n\", X_train[0:5])\n",
    "# Note: The remainder of the notebook can be run regardless of whether X_train has 2 or 3 columns."
   ]
  },
  {
   "cell_type": "markdown",
   "metadata": {},
   "source": [
    "**Solution:**\n",
    "```\n",
    "X_train:\n",
    "[[ 1.       -1.188     1.411344]\n",
    " [ 1.       -1.188     1.411344]\n",
    " [ 1.       -1.188     1.411344]\n",
    " [ 1.       -1.106     1.223236]\n",
    " [ 1.       -1.024     1.048576]]\n",
    "```"
   ]
  },
  {
   "cell_type": "markdown",
   "metadata": {},
   "source": [
    "## Solution 2: High-Level"
   ]
  },
  {
   "cell_type": "code",
   "execution_count": 7,
   "metadata": {},
   "outputs": [],
   "source": [
    "optimizer = tf.keras.optimizers.SGD(learning_rate = .1, nesterov=False, momentum = 0.9)\n",
    "# SGD: stochastic gradient descent\n",
    "loss_object = tf.keras.losses.MeanSquaredError() # unneccessary, once own loss is used"
   ]
  },
  {
   "cell_type": "code",
   "execution_count": 8,
   "metadata": {},
   "outputs": [],
   "source": [
    "np.random.seed(1)\n",
    "dataset = tf.data.Dataset.from_tensor_slices((X_train, y_train))\n",
    "dataset = dataset.shuffle(m).batch(32) # random order"
   ]
  },
  {
   "cell_type": "code",
   "execution_count": 9,
   "metadata": {},
   "outputs": [],
   "source": [
    "# Get a predefined linear model with one single output variable (unit) and one weight per input.\n",
    "# Default is random initialization.\n",
    "model = tf.keras.Sequential()\n",
    "model.add(tf.keras.layers.Dense(units = 1,\n",
    "                                use_bias = False, # bias equivalent to adding x_0 := 1\n",
    "                                dtype = 'float64'))"
   ]
  },
  {
   "cell_type": "code",
   "execution_count": 10,
   "metadata": {},
   "outputs": [],
   "source": [
    "# one gradient descent step\n",
    "def train_step(x, y):\n",
    "    with tf.GradientTape() as tape:\n",
    "        t = model(x) # predicted rental demand\n",
    "        t = tf.reshape(t, [-1])\n",
    "        E = ell(y, t)\n",
    "        E = tf.reduce_mean(E)\n",
    "\n",
    "    grads = tape.gradient(E, model.trainable_variables)\n",
    "    # this makes a parameter update using the gradient\n",
    "    optimizer.apply_gradients(zip(grads, model.trainable_variables))\n",
    "    return E"
   ]
  },
  {
   "cell_type": "code",
   "execution_count": 11,
   "metadata": {},
   "outputs": [],
   "source": [
    "# optimize the parameters\n",
    "for epoch in range(100):\n",
    "    for batchnumber, (x, y) in enumerate(dataset):\n",
    "        E = train_step(x, y)"
   ]
  },
  {
   "cell_type": "code",
   "execution_count": 12,
   "metadata": {},
   "outputs": [
    {
     "name": "stdout",
     "output_type": "stream",
     "text": [
      "theta:\n",
      " [[ 509.95135084]\n",
      " [ 157.9418466 ]\n",
      " [-127.07015528]]\n",
      "Loss =  280.22037094416686\n"
     ]
    }
   ],
   "source": [
    "print(\"theta:\\n\", model.trainable_variables[0].numpy())\n",
    "# make final prediction on all training data\n",
    "t = tf.reshape(model(X_train), [m])\n",
    "# print final loss\n",
    "print (\"Loss = \", tf.reduce_mean(ell(y_train, t)).numpy())"
   ]
  },
  {
   "cell_type": "markdown",
   "metadata": {},
   "source": [
    "## Plot predictions"
   ]
  },
  {
   "cell_type": "code",
   "execution_count": 13,
   "metadata": {},
   "outputs": [
    {
     "data": {
      "image/png": "[encoded data removed]",
      "text/plain": [
       "<Figure size 432x288 with 1 Axes>"
      ]
     },
     "metadata": {
      "needs_background": "light"
     },
     "output_type": "display_data"
    }
   ],
   "source": [
    "ax = scatterplot_rentals() # draw the mere scatterplot\n",
    "\n",
    "# now add the regression curve\n",
    "if (X_train.shape[1] == 2):\n",
    "    label = r'$\\theta_0 + \\theta_1 X$'\n",
    "else:\n",
    "    label = r'$\\theta_0 + \\theta_1 X + \\theta_2 X^2$'\n",
    "ax.plot(temps, t, 'rx', label = label) # (r)ed crosses (x)\n",
    "ax.legend(loc = 'upper left');"
   ]
  },
  {
   "cell_type": "markdown",
   "metadata": {},
   "source": [
    "At completion of the exercise set the red crosses should be on a quadratic curve with maximum at about 32$^\\circ$ C."
   ]
  }
 ],
 "metadata": {
  "kernelspec": {
   "display_name": "Python 3",
   "language": "python",
   "name": "python3"
  },
  "language_info": {
   "codemirror_mode": {
    "name": "ipython",
    "version": 3
   },
   "file_extension": ".py",
   "mimetype": "text/x-python",
   "name": "python",
   "nbconvert_exporter": "python",
   "pygments_lexer": "ipython3",
   "version": "3.9.2"
  },
  "widgets": {
   "application/vnd.jupyter.widget-state+json": {
    "state": {},
    "version_major": 2,
    "version_minor": 0
   }
  }
 },
 "nbformat": 4,
 "nbformat_minor": 4
}
