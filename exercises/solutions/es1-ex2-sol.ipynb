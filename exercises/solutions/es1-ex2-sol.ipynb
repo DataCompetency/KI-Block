{
 "cells": [
  {
   "cell_type": "markdown",
   "metadata": {
    "slideshow": {
     "slide_type": "slide"
    }
   },
   "source": [
    "<p style=\"text-align:right;\">Mario Stanke, University of Greifswald, Germany</p>\n",
    "\n",
    "# Solution to Exercise Set 1, Exercise 1 - A Different Loss\n",
    "\n",
    "In this notebook we reconsider the bike rental problem with a different loss function.\n",
    " - We must now *decide* how many bikes we prepare for rental at a given hour.\n",
    " - Let $t = h_{\\pmb{\\theta}}(x) := \\theta_0 + \\theta_1 x$ be the number of bikes we make ready depending on the (forecast) temperature $x = x_1$.\n",
    " - If the demand $y$ exceeds the number of bikes made ready $t$, we incurr costs $5(y-t)$ for the lost revenue.\n",
    " - If the bikes made ready $t$ exceed the demand $y$, we incurr costs $t-y$ for making the superfluous bikes ready.\n",
    " - We seek to find a $\\pmb{\\theta}$ that minimizes \n",
    " $$L(\\pmb{\\theta}) = \\frac{1}{m} \\sum_{i=1}^m \\ell(y_i, h_{\\pmb{\\theta}}(x^{(i)})),$$\n",
    "where\n",
    "$$ \\ell(y, t) = 5 \\cdot \\texttt{relu}(y-t) + \\texttt{relu}(t-y)$$\n",
    "and \n",
    "$$\\texttt{relu}(z):= \\max\\{z, 0\\}$$\n",
    "is the so-called *rectified linear unit*:\n",
    "\n",
    "<img src=\"../activ-relu.png\" width=\"400\"/>"
   ]
  },
  {
   "cell_type": "markdown",
   "metadata": {},
   "source": [
    "### 1. Implement $\\ell(y, t)$ with TensorFlow functions."
   ]
  },
  {
   "cell_type": "code",
   "execution_count": 17,
   "metadata": {
    "slideshow": {
     "slide_type": "slide"
    }
   },
   "outputs": [],
   "source": [
    "# First import libraries\n",
    "import pandas as pd\n",
    "import matplotlib.pyplot as plt\n",
    "import numpy as np\n",
    "import tensorflow as tf"
   ]
  },
  {
   "cell_type": "markdown",
   "metadata": {},
   "source": [
    "Define the function ```ell``` to be used below.  \n",
    "Tipps: [tf.nn.relu](https://www.tensorflow.org/versions/r2.0/api_docs/python/tf/nn/relu)"
   ]
  },
  {
   "cell_type": "code",
   "execution_count": 20,
   "metadata": {},
   "outputs": [],
   "source": [
    "def ell(y, t):\n",
    "    '''\n",
    "        Input: y and t are vectors of the same size.\n",
    "        Output: vector of 5 * relu(y-t) + relu(t-y) applied to each component of y and t\n",
    "    '''\n",
    "    # ADD YOUR CODE HERE, 1 line\n",
    "    return 50 * tf.nn.relu(y - t) + tf.nn.relu(t - y)"
   ]
  },
  {
   "cell_type": "code",
   "execution_count": 21,
   "metadata": {},
   "outputs": [
    {
     "name": "stdout",
     "output_type": "stream",
     "text": [
      "t = [3. 4. 0. 1.] \n",
      "y = [3. 5. 7. 0.] \n",
      "losses = [  0.  50. 350.   1.]\n"
     ]
    }
   ],
   "source": [
    "# test the function\n",
    "np.random.seed(1) # so the whole class uses the same pseudorandom numbers\n",
    "\n",
    "t1 = tf.constant(np.random.randint(low=0, high=5, size=4), dtype='float64') # bikes ready\n",
    "y1 = tf.constant(np.random.randint(low=0, high=8, size=4), dtype='float64') # bike demand\n",
    "\n",
    "losses = ell(y1, t1)\n",
    "print(\"t =\", t1.numpy(),\n",
    "      \"\\ny =\", y1.numpy(),\n",
    "      \"\\nlosses =\", losses.numpy())"
   ]
  },
  {
   "cell_type": "markdown",
   "metadata": {},
   "source": [
    "**Solution:**\n",
    "```\n",
    "t = [3. 4. 0. 1.] \n",
    "y = [3. 5. 7. 0.] \n",
    "losses = [ 0.  5. 35.  1.]\n",
    "```"
   ]
  },
  {
   "cell_type": "markdown",
   "metadata": {},
   "source": [
    "## 2. Make TensorFlow use your loss\n",
    " 1. Below code is a copy of the relevant parts from todays lecture. First, execute everything as is, e.g. using Kernel->Restart & Run All.\n",
    " 2. Go to the function ```train_step``` and replace your own loss function where the code is marked YOUR CODE HERE.\n"
   ]
  },
  {
   "cell_type": "code",
   "execution_count": 22,
   "metadata": {
    "slideshow": {
     "slide_type": "slide"
    }
   },
   "outputs": [],
   "source": [
    "# load the training data from the table file to a pandas data frame\n",
    "df = pd.read_csv(\"../bikes-summerdays.tbl\", sep='\\s+')\n",
    "df['count'] = df['count'].astype(float) # convert count data to floats\n",
    "m, n_cols = df.shape # training set size and number of columns"
   ]
  },
  {
   "cell_type": "code",
   "execution_count": 23,
   "metadata": {
    "scrolled": true
   },
   "outputs": [],
   "source": [
    "def scatterplot_rentals():\n",
    "    ''' Plot the bike rental counts versus the temperature.'''\n",
    "    _, ax = plt.subplots()\n",
    "    ax.scatter(df[\"temp\"], df[\"count\"])\n",
    "    plt.title(\"bike rentals versus temperature\")\n",
    "    plt.xlabel('temperature [' + r'$^\\circ$' + 'C]')\n",
    "    plt.ylabel('rental count per hour');\n",
    "    return ax"
   ]
  },
  {
   "cell_type": "markdown",
   "metadata": {},
   "source": [
    "## Create Data Matrix $X$ and response vector $y$"
   ]
  },
  {
   "cell_type": "code",
   "execution_count": 24,
   "metadata": {},
   "outputs": [],
   "source": [
    "# extract response vector\n",
    "y_train = np.array(df['count']) \n",
    "\n",
    "# extract feature columns\n",
    "n = n_cols - 1 # number of features\n",
    "temps = np.array(df.loc[:, df.columns != 'count']) # matrix of all other columns (here only one col)\n",
    "\n",
    "# make data matrix X\n",
    "X_train = np.ones((m, n+1)) # initialize with all ones\n",
    "X_train[:,1:n+1] = temps / 10 - 2.5 # normalize temperatures so they are roughly in [-1,1] "
   ]
  },
  {
   "cell_type": "markdown",
   "metadata": {},
   "source": [
    "## Solution 2: High-Level"
   ]
  },
  {
   "cell_type": "code",
   "execution_count": 25,
   "metadata": {},
   "outputs": [],
   "source": [
    "optimizer = tf.keras.optimizers.SGD(learning_rate = .1, momentum = 0.9)"
   ]
  },
  {
   "cell_type": "markdown",
   "metadata": {},
   "source": [
    "#### Define your own loss function here\n",
    "*Tip:* [rf.reduce_mean](https://www.tensorflow.org/versions/r2.0/api_docs/python/tf/math/reduce_mean?hl=en)"
   ]
  },
  {
   "cell_type": "code",
   "execution_count": 26,
   "metadata": {},
   "outputs": [],
   "source": [
    "def loss_fkt(y, t):\n",
    "    ''' Returns the mean loss according to function ell'''\n",
    "    # YOUR CODE HERE, replace the following line with a call to your own loss function ell\n",
    "    # REMEMBER TO take the average, too, so E is a scalar.\n",
    "    E = ell(y, t)\n",
    "    E = tf.reduce_mean(E, axis=0)\n",
    "    # END OF YOUR CODE\n",
    "    return E"
   ]
  },
  {
   "cell_type": "code",
   "execution_count": 27,
   "metadata": {},
   "outputs": [
    {
     "data": {
      "text/plain": [
       "<tf.Tensor: shape=(), dtype=float64, numpy=367.0>"
      ]
     },
     "execution_count": 27,
     "metadata": {},
     "output_type": "execute_result"
    }
   ],
   "source": [
    "y = np.array([23., 45, 10])\n",
    "t = np.array([2., 44, 11])\n",
    "loss_fkt(y, t)"
   ]
  },
  {
   "cell_type": "markdown",
   "metadata": {},
   "source": [
    "#### Test of ```loss_fkt```"
   ]
  },
  {
   "cell_type": "code",
   "execution_count": 28,
   "metadata": {
    "scrolled": true
   },
   "outputs": [
    {
     "name": "stdout",
     "output_type": "stream",
     "text": [
      "t = [3. 4. 0. 1.] \n",
      "y = [3. 5. 7. 0.] \n",
      "E = 100.25\n"
     ]
    }
   ],
   "source": [
    "np.random.seed(1)\n",
    "\n",
    "t1 = tf.constant(np.random.randint(low=0, high=5, size=4), dtype='float64') # bikes ready\n",
    "y1 = tf.constant(np.random.randint(low=0, high=8, size=4), dtype='float64') # bike demand\n",
    "\n",
    "E = loss_fkt(y1, t1)\n",
    "print(\"t =\", t1.numpy(),\n",
    "      \"\\ny =\", y1.numpy(),\n",
    "      \"\\nE =\", E.numpy())"
   ]
  },
  {
   "cell_type": "markdown",
   "metadata": {},
   "source": [
    "**Solution:**\n",
    "```\n",
    "t = [3. 4. 0. 1.] \n",
    "y = [3. 5. 7. 0.] \n",
    "E = 10.25\n",
    "```"
   ]
  },
  {
   "cell_type": "code",
   "execution_count": 29,
   "metadata": {},
   "outputs": [],
   "source": [
    "np.random.seed(1)\n",
    "dataset = tf.data.Dataset.from_tensor_slices((X_train, y_train))\n",
    "dataset = dataset.shuffle(m).batch(32) # random order"
   ]
  },
  {
   "cell_type": "code",
   "execution_count": 30,
   "metadata": {},
   "outputs": [],
   "source": [
    "# Get a predefined linear model with one single output variable (unit) and one weight per input.\n",
    "# Default is random initialization.\n",
    "model = tf.keras.Sequential()\n",
    "model.add(tf.keras.layers.Dense(units = 1,\n",
    "                                use_bias = False, # bias equivalent to adding x_0 := 1\n",
    "                                dtype = 'float64'))"
   ]
  },
  {
   "cell_type": "code",
   "execution_count": 31,
   "metadata": {},
   "outputs": [],
   "source": [
    "# one gradient descent step\n",
    "@tf.function\n",
    "def train_step(x, y):\n",
    "    with tf.GradientTape() as tape:\n",
    "        t = model(x) # predicted rental demand\n",
    "        t = tf.reshape(t, [-1])\n",
    "        E = loss_fkt(y, t)\n",
    "\n",
    "    grads = tape.gradient(E, model.trainable_variables)\n",
    "    # this makes a parameter update using the gradient\n",
    "    optimizer.apply_gradients(zip(grads, model.trainable_variables))\n",
    "    return E"
   ]
  },
  {
   "cell_type": "code",
   "execution_count": 32,
   "metadata": {},
   "outputs": [],
   "source": [
    "# optimize the parameters\n",
    "for epoch in range(100):\n",
    "    for batchnumber, (x, y) in enumerate(dataset):\n",
    "        E = train_step(x, y)"
   ]
  },
  {
   "cell_type": "code",
   "execution_count": 33,
   "metadata": {},
   "outputs": [
    {
     "name": "stdout",
     "output_type": "stream",
     "text": [
      "theta:\n",
      " [[749.79439801]\n",
      " [217.98695779]]\n",
      "Loss =  tf.Tensor(472.940144490878, shape=(), dtype=float64)\n"
     ]
    }
   ],
   "source": [
    "print(\"theta:\\n\", model.trainable_variables[0].numpy())\n",
    "# make final prediction on all training data\n",
    "t = tf.reshape(model(X_train), [m])\n",
    "print (\"Loss = \", tf.reduce_mean(ell(y_train, t)))"
   ]
  },
  {
   "cell_type": "markdown",
   "metadata": {},
   "source": [
    "## Plot predictions"
   ]
  },
  {
   "cell_type": "code",
   "execution_count": 34,
   "metadata": {},
   "outputs": [
    {
     "data": {
      "image/png": "[encoded data removed]",
      "text/plain": [
       "<Figure size 432x288 with 1 Axes>"
      ]
     },
     "metadata": {
      "needs_background": "light"
     },
     "output_type": "display_data"
    }
   ],
   "source": [
    "# draw the same scatterplot as above\n",
    "ax = scatterplot_rentals()\n",
    "\n",
    "# now add the predictions, here a regression line\n",
    "ax.plot(temps, t, 'rx-', label=r\"$\\theta_0 + \\theta_1 X$\") # - draws line connecting (r)ed crosses (x)\n",
    "ax.legend(loc = 'upper left');"
   ]
  },
  {
   "cell_type": "markdown",
   "metadata": {},
   "source": [
    "After you have solved the exercise correctly, the regression line will have moved up a bit compared to the regular regression line (ending above 600 bikes at maximal temperature). This is due to the fact that the differences to the $y$-values above the line are penalized more. Try out what happens if you increase this penalty even more."
   ]
  },
  {
   "cell_type": "code",
   "execution_count": null,
   "metadata": {},
   "outputs": [],
   "source": []
  }
 ],
 "metadata": {
  "kernelspec": {
   "display_name": "Python 3",
   "language": "python",
   "name": "python3"
  },
  "language_info": {
   "codemirror_mode": {
    "name": "ipython",
    "version": 3
   },
   "file_extension": ".py",
   "mimetype": "text/x-python",
   "name": "python",
   "nbconvert_exporter": "python",
   "pygments_lexer": "ipython3",
   "version": "3.9.2"
  },
  "widgets": {
   "application/vnd.jupyter.widget-state+json": {
    "state": {},
    "version_major": 2,
    "version_minor": 0
   }
  }
 },
 "nbformat": 4,
 "nbformat_minor": 4
}
