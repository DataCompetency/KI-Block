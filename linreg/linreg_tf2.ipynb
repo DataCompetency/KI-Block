{
 "cells": [
  {
   "cell_type": "markdown",
   "metadata": {},
   "source": [
    "<div style=\"text-align:right\">Mario Stanke, University of Greifswald, Germany</div>  \n",
    "\n",
    "# Linear Regression, Bike Sharing Demand\n",
    "## Solution using TensorFlow 2\n",
    "\n",
    "The biggest difference: we need neither know the gradient, nor a closed form solution."
   ]
  },
  {
   "cell_type": "code",
   "execution_count": 2,
   "metadata": {},
   "outputs": [],
   "source": [
    "import tensorflow as tf\n",
    "import numpy as np\n",
    "import pandas as pd"
   ]
  },
  {
   "cell_type": "code",
   "execution_count": 3,
   "metadata": {
    "scrolled": true
   },
   "outputs": [
    {
     "name": "stdout",
     "output_type": "stream",
     "text": [
      "    temp  count\n",
      "0  13.12    173\n",
      "1  13.12     75\n",
      "2  13.12     89\n",
      "3  13.94     95\n",
      "4  14.76    110\n",
      "temp     float64\n",
      "count      int64\n",
      "dtype: object\n",
      "m = 1482\n",
      "mean count =  311.0\n"
     ]
    }
   ],
   "source": [
    "# load the training data\n",
    "df = pd.read_csv(\"bikes-summerdays.tbl\", sep='\\s+') # data frame\n",
    "print(df.head())\n",
    "print(df.dtypes)\n",
    "df['count'] = df['count'].astype(float) # convert count data to floats as regression target\n",
    "m = df.shape[0] # training set size\n",
    "print(\"m =\", m)\n",
    "meancount = np.mean(df['count'])\n",
    "print (\"mean count = \", meancount)"
   ]
  },
  {
   "cell_type": "markdown",
   "metadata": {},
   "source": [
    "### preprare training data as numpy arrays"
   ]
  },
  {
   "cell_type": "code",
   "execution_count": 4,
   "metadata": {
    "scrolled": true
   },
   "outputs": [
    {
     "name": "stdout",
     "output_type": "stream",
     "text": [
      "[[ 1.    -1.188]\n",
      " [ 1.    -1.188]\n",
      " [ 1.    -1.188]\n",
      " [ 1.    -1.106]\n",
      " [ 1.    -1.024]]\n",
      "[173.  75.  89.  95. 110.]\n"
     ]
    }
   ],
   "source": [
    "target = df.pop('count') # remove to-be-predicted variable from data frame, WARNING: error if called again\n",
    "# make a tf.data.Dataset object with x, y pairs: x are here all other features - only the temp\n",
    "\n",
    "X = np.ones((m, 2))\n",
    "X[:,1:2] = np.array(df.values) / 10 - 2.5 # normalize temperatures\n",
    "y = np.array(target.values)\n",
    "print(X[0:5,])\n",
    "print(y[0:5])"
   ]
  },
  {
   "cell_type": "markdown",
   "metadata": {},
   "source": [
    "## Solution 1: Low-Level"
   ]
  },
  {
   "cell_type": "code",
   "execution_count": 5,
   "metadata": {},
   "outputs": [],
   "source": [
    "# model parameters (weights)\n",
    "theta = tf.Variable([[2000.], [3000.]], dtype=tf.float64, name=\"weights\")\n",
    "# a better starting value for theta would be [[meancount], [0]]"
   ]
  },
  {
   "cell_type": "code",
   "execution_count": 6,
   "metadata": {},
   "outputs": [],
   "source": [
    "# construct model\n",
    "def mean_squared_error():\n",
    "    pred = tf.linalg.matmul(X, theta)\n",
    "    pred = tf.reshape(pred, [m]) # reshape from m x 1 matrix to vector\n",
    "    E = tf.reduce_sum((pred - y)**2) / 2 / m\n",
    "    return E"
   ]
  },
  {
   "cell_type": "code",
   "execution_count": 7,
   "metadata": {},
   "outputs": [
    {
     "name": "stdout",
     "output_type": "stream",
     "text": [
      "error after 0 iterations: 2281157.3448043186\n",
      "error after 10 iterations: 91310.51605397751\n",
      "error after 20 iterations: 19156.243921148453\n",
      "error after 30 iterations: 14007.496586335401\n",
      "error after 40 iterations: 13640.089430363834\n",
      "error after 50 iterations: 13613.871787603943\n",
      "error after 60 iterations: 13612.000934571513\n",
      "error after 70 iterations: 13611.86743320753\n",
      "error after 80 iterations: 13611.857906743458\n",
      "error after 90 iterations: 13611.857226948776\n",
      "final error =  13611.857178439612\n",
      "theta after optimization:\n",
      " [[315.48111677]\n",
      " [115.54233945]]\n"
     ]
    }
   ],
   "source": [
    "N = 100\n",
    "alpha = 0.5 # learning rate\n",
    "for i in range(N):\n",
    "    with tf.GradientTape() as tape:\n",
    "        E = mean_squared_error()\n",
    "    grad = tape.gradient(E, theta) # let tf compute the derivate of E wrt to theta\n",
    "    theta.assign(theta - alpha * grad)\n",
    "    if (i%10 == 0):\n",
    "        print (\"error after {} iterations: {}\".format(i, E))\n",
    "\n",
    "print(\"final error = \", mean_squared_error().numpy())  \n",
    "print(\"theta after optimization:\\n\", theta.numpy())  "
   ]
  },
  {
   "cell_type": "markdown",
   "metadata": {},
   "source": [
    "## Solution 2: High-Level\n",
    "This approach is recommended for most applications using previously defined model classes.\n"
   ]
  },
  {
   "cell_type": "code",
   "execution_count": 8,
   "metadata": {},
   "outputs": [],
   "source": [
    "optimizer = tf.keras.optimizers.SGD(learning_rate=.5)\n",
    "# SGD: stochastic gradient descent\n",
    "loss_object = tf.keras.losses.MeanSquaredError()\n",
    "# this is 2x the error defined in class"
   ]
  },
  {
   "cell_type": "code",
   "execution_count": 9,
   "metadata": {},
   "outputs": [],
   "source": [
    "dataset = tf.data.Dataset.from_tensor_slices((X, y))\n",
    "# a tf.data.Dataset has commonly used functions for random sampling, obtaining subsets\n",
    "# iterating over large numbers of images on disk (using TFRecord)\n",
    "dataset = dataset.shuffle(m).batch(m) # random order, use whole dataset as 'batch'"
   ]
  },
  {
   "cell_type": "code",
   "execution_count": 10,
   "metadata": {},
   "outputs": [],
   "source": [
    "# get a predefined linear model with one single output variable and one weight per input\n",
    "model = tf.keras.layers.Dense(1, use_bias=False, # bias would be redundant\n",
    "                              kernel_initializer=tf.constant_initializer([2000, 3000]))"
   ]
  },
  {
   "cell_type": "code",
   "execution_count": 11,
   "metadata": {},
   "outputs": [],
   "source": [
    "# one gradient descent step\n",
    "def train_step(features, temp):\n",
    "    with tf.GradientTape() as tape:\n",
    "        pred = model(features)\n",
    "        pred = tf.reshape(pred, [-1])\n",
    "        E = loss_object(temp, pred)\n",
    "\n",
    "    grads = tape.gradient(E, model.trainable_variables)\n",
    "    # this makes a parameter update using the gradient\n",
    "    optimizer.apply_gradients(zip(grads, model.trainable_variables))\n",
    "    return E"
   ]
  },
  {
   "cell_type": "code",
   "execution_count": 12,
   "metadata": {},
   "outputs": [],
   "source": [
    "for epoch in range(100):\n",
    "    # loop over batches of dataset\n",
    "    # Here it is here just a single big batch for comparability with Solution 1.\n",
    "    for (batch, (f, t)) in enumerate(dataset):\n",
    "        # batch: running nr\n",
    "        # f: batch_size x 2 batch matrix X\n",
    "        # t: batch labels y\n",
    "        E = train_step(f, t)"
   ]
  },
  {
   "cell_type": "code",
   "execution_count": 13,
   "metadata": {},
   "outputs": [
    {
     "name": "stdout",
     "output_type": "stream",
     "text": [
      "final error =  13611.857421875\n",
      "[[315.48083425]\n",
      " [115.53685644]]\n"
     ]
    }
   ],
   "source": [
    "# final loss computed on all training data\n",
    "pred = model(X)\n",
    "pred = tf.reshape(pred, [m])\n",
    "E = loss_object(y, pred)\n",
    "print(\"final error = \", E.numpy() / 2) # divide by 2 for comparability with custom loss function above\n",
    "print(model.trainable_variables[0].numpy())"
   ]
  },
  {
   "cell_type": "code",
   "execution_count": null,
   "metadata": {},
   "outputs": [],
   "source": []
  }
 ],
 "metadata": {
  "kernelspec": {
   "display_name": "Python 3",
   "language": "python",
   "name": "python3"
  },
  "language_info": {
   "codemirror_mode": {
    "name": "ipython",
    "version": 3
   },
   "file_extension": ".py",
   "mimetype": "text/x-python",
   "name": "python",
   "nbconvert_exporter": "python",
   "pygments_lexer": "ipython3",
   "version": "3.6.8"
  }
 },
 "nbformat": 4,
 "nbformat_minor": 2
}
